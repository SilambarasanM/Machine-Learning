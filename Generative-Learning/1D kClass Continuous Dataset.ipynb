{
 "cells": [
  {
   "cell_type": "markdown",
   "metadata": {},
   "source": [
    "#1. 1D kClass Continuous - Iris/Breast-Cancer Datasets"
   ]
  },
  {
   "cell_type": "code",
   "execution_count": 67,
   "metadata": {
    "collapsed": false
   },
   "outputs": [],
   "source": [
    "from pylab import *\n",
    "%matplotlib inline\n",
    "from sklearn.cross_validation import KFold\n",
    "from sklearn.preprocessing import *\n",
    "from sklearn.linear_model import LinearRegression\n",
    "from __future__ import division\n",
    "t=np.seterr(divide='ignore', invalid='ignore')"
   ]
  },
  {
   "cell_type": "markdown",
   "metadata": {},
   "source": [
    "### Getting Dataset Ready for the experiment"
   ]
  },
  {
   "cell_type": "code",
   "execution_count": 68,
   "metadata": {
    "collapsed": true
   },
   "outputs": [],
   "source": [
    "def getData(fileName, classCount=2):\n",
    "    dim = 1 #Only one dimensional feature vector required\n",
    "    if fileName == \"Iris\":\n",
    "        from sklearn import datasets\n",
    "        data = datasets.load_iris() \n",
    "        #data = datasets.load_boston() \n",
    "        #data = datasets.load_diabetes()\n",
    "        X = data['data']\n",
    "        Y = data['target']\n",
    "        if dim==1:\n",
    "            #X = X[:,1].reshape(len(data['data']),1) #Sepal Width\n",
    "            X = X[:,2].reshape(len(data['data']),1) #Petal Length\n",
    "        Y = Y.reshape(len(data['target']), 1)\n",
    "        dataset = np.hstack((X, Y))\n",
    "\n",
    "    idx_k=[]\n",
    "    if classCount == 2:\n",
    "        (m, n) = dataset.shape\n",
    "        class_k = np.unique(dataset[:,n-1])\n",
    "        k = len(class_k)\n",
    "        for i in range(classCount):\n",
    "            idx_k.append(filter((lambda x : dataset[:,n-1][x] == class_k[i]), range(m)))\n",
    "        idx_k = np.concatenate((idx_k[0], idx_k[1]), axis=0)\n",
    "        dataset = dataset[idx_k]\n",
    "        \n",
    "    return dataset"
   ]
  },
  {
   "cell_type": "markdown",
   "metadata": {},
   "source": [
    "###Computing the Confusion Matrix"
   ]
  },
  {
   "cell_type": "code",
   "execution_count": 69,
   "metadata": {
    "collapsed": true
   },
   "outputs": [],
   "source": [
    "def getConfusionMatrix(actual, prediction, class_k):\n",
    "    k = len(class_k)\n",
    "    m = len(actual)\n",
    "    cm = np.zeros((k, k))\n",
    "    for i in range(k):\n",
    "        actual_i = filter(lambda x: actual[x] == class_k[i], range(m))\n",
    "        for j in range(k):\n",
    "            predicted_j = filter(lambda x: prediction[x] == class_k[j], range(m))\n",
    "            cm[i,j] = len(np.intersect1d(actual_i, predicted_j))\n",
    "    return cm "
   ]
  },
  {
   "cell_type": "markdown",
   "metadata": {},
   "source": [
    "###Computing Performance Metrics"
   ]
  },
  {
   "cell_type": "code",
   "execution_count": 70,
   "metadata": {
    "collapsed": false
   },
   "outputs": [],
   "source": [
    "def getAccuracy(matrix):\n",
    "    return np.trace(matrix)/np.sum(matrix)\n",
    "\n",
    "def getPrecision(matrix):\n",
    "    k = len(matrix)\n",
    "    precision = np.zeros(k)\n",
    "    for i in range(k):\n",
    "        actual_positives = np.sum(matrix[i])\n",
    "        precision[i] = matrix[i,i]/actual_positives\n",
    "    return precision\n",
    "\n",
    "def getRecall(matrix):\n",
    "    k = len(matrix)\n",
    "    recall = np.zeros(k)\n",
    "    for i in range(k):\n",
    "        predicted_positives = np.sum(matrix[:,i])\n",
    "        recall[i] = matrix[i,i]/predicted_positives\n",
    "    return recall\n",
    "\n",
    "def getFMeasure(precision, recall):\n",
    "    k = len(precision)\n",
    "    fm = np.zeros(k)\n",
    "    for i in range(k):\n",
    "        fm[i] = 2* precision[i]*recall[i]/(precision[i]+recall[i])\n",
    "    return fm"
   ]
  },
  {
   "cell_type": "markdown",
   "metadata": {},
   "source": [
    "###Classifying based on Membership Function"
   ]
  },
  {
   "cell_type": "code",
   "execution_count": 71,
   "metadata": {
    "collapsed": true
   },
   "outputs": [],
   "source": [
    "def classify(g, class_k):\n",
    "    (m, n) = g.shape\n",
    "    estimate = np.zeros((m,1))\n",
    "    \n",
    "    for i in range(m):\n",
    "            estimate[i] = class_k[np.argmax(g[i])]\n",
    "            \n",
    "    return estimate"
   ]
  },
  {
   "cell_type": "markdown",
   "metadata": {},
   "source": [
    "###Computing Membership Function"
   ]
  },
  {
   "cell_type": "code",
   "execution_count": 72,
   "metadata": {
    "collapsed": true
   },
   "outputs": [],
   "source": [
    "def computeMembership(X, modelParam):\n",
    "    (m, n) = X.shape\n",
    "    mean_k = modelParam['mean']\n",
    "    sigma_k = modelParam['sigma']\n",
    "    alpha_k = modelParam['alpha']\n",
    "    m_k = modelParam['m']\n",
    "    k = len(m_k)\n",
    "    \n",
    "    g = np.zeros((m,k))\n",
    "    for j in range(k):\n",
    "        if m_k[j] is not 0:\n",
    "            det_sigma_k = np.linalg.det(sigma_k[j])\n",
    "            sigma_inv = np.linalg.inv(sigma_k[j])\n",
    "            for i in range(m):\n",
    "                X_mu = X[i] - mean_k[j]\n",
    "\n",
    "                g[i,j] = -np.log(det_sigma_k) + np.log(alpha_k[j]) - (X_mu**2)/(2 * sigma_k[j]**2)\n",
    "        else:\n",
    "            g[:,j] = -inf * np.ones(m)\n",
    "            \n",
    "    return g"
   ]
  },
  {
   "cell_type": "markdown",
   "metadata": {},
   "source": [
    "###Training the Classifier"
   ]
  },
  {
   "cell_type": "code",
   "execution_count": 75,
   "metadata": {
    "collapsed": false
   },
   "outputs": [],
   "source": [
    "def train(data, train_idx, test_idx, class_k):\n",
    "    (m, n) = data.shape\n",
    "    k = len(class_k)\n",
    "    training_data = data[train_idx]\n",
    "    m_train = len(training_data)\n",
    "    X_train = training_data[:,:n-1].reshape((m_train,n-1))\n",
    "    Y_train = training_data[:,n-1].reshape((m_train,1))\n",
    "    \n",
    "    \n",
    "    #Distribution Model = Gaussian\n",
    "    mean_k = {}\n",
    "    covariance_k = {}\n",
    "    m_train_k = {}\n",
    "    X_train_k = {}\n",
    "    train_idx_k = {}\n",
    "    alpha_k = {}\n",
    "    \n",
    "    #Determining Model Parameters\n",
    "    for i in range(k):\n",
    "        train_idx_k[i] = filter((lambda x : data[:,n-1][x] == class_k[i]), train_idx)\n",
    "        X_train_k[i] = data[:, :n-1][train_idx_k[i]]\n",
    "        m_train_k[i] = len(X_train_k[i])\n",
    "        alpha_k[i] = m_train_k[i]/m_train\n",
    "        if m_train_k[i] is not 0:\n",
    "            mean_k[i] = np.mean(X_train_k[i],axis=0)\n",
    "            X_mu_k = X_train_k[i]-mean_k[i]\n",
    "            covariance_k[i] = np.dot(X_mu_k.T,(X_mu_k))/m_train_k[i]\n",
    "    \n",
    "    #Computed Model Parameters\n",
    "    modelParam = {}\n",
    "    modelParam['mean'] = mean_k\n",
    "    modelParam['sigma'] = covariance_k\n",
    "    modelParam['alpha'] = alpha_k\n",
    "    modelParam['m'] = m_train_k\n",
    "    \n",
    "    #Compute Membership Function\n",
    "    g_train = computeMembership(X_train, modelParam)\n",
    "    \n",
    "    #Classification\n",
    "    Y_train_hat = classify(g_train, class_k)\n",
    "    \n",
    "    #For Debug pupose: Computing the Training Error\n",
    "    '''\n",
    "    result = {}\n",
    "    confMatrix = getConfusionMatrix(Y_train, Y_train_hat, class_k)    \n",
    "    precision = getPrecision(confMatrix)\n",
    "    accuracy = getAccuracy(confMatrix)\n",
    "    recall = getRecall(confMatrix)\n",
    "    FMeasure = getFMeasure(precision, recall) \n",
    "    \n",
    "    result['ConfusionMatrix'] = confMatrix\n",
    "    result['precision'] = precision\n",
    "    result['accuracy'] = accuracy\n",
    "    result['recall'] = recall\n",
    "    result['FMeasure'] = FMeasure\n",
    "    '''\n",
    "    test_data = data[test_idx]\n",
    "    m_test = len(test_data)\n",
    "    X_test = test_data[:,:n-1].reshape((m_test,n-1))\n",
    "    Y_test = test_data[:,n-1].reshape((m_test,1))\n",
    "    \n",
    "    #Compute Membership Function\n",
    "    g_test = computeMembership(X_test, modelParam)\n",
    "\n",
    "    #Classification\n",
    "    Y_test_hat = classify(g_test, class_k)\n",
    "    \n",
    "    #Computing Performance Metrics\n",
    "    result = {}\n",
    "    confMatrix = getConfusionMatrix(Y_test, Y_test_hat, class_k)    \n",
    "    precision = getPrecision(confMatrix)\n",
    "    accuracy = getAccuracy(confMatrix)\n",
    "    recall = getRecall(confMatrix)\n",
    "    FMeasure = getFMeasure(precision, recall)\n",
    "    \n",
    "    #Preparing the results\n",
    "    result['ConfusionMatrix'] = confMatrix\n",
    "    result['precision'] = precision\n",
    "    result['accuracy'] = accuracy\n",
    "    result['recall'] = recall\n",
    "    result['FMeasure'] = FMeasure\n",
    "    \n",
    "    return result"
   ]
  },
  {
   "cell_type": "markdown",
   "metadata": {},
   "source": [
    "###Running the experiment - Main Function"
   ]
  },
  {
   "cell_type": "code",
   "execution_count": 80,
   "metadata": {
    "collapsed": false
   },
   "outputs": [
    {
     "name": "stdout",
     "output_type": "stream",
     "text": [
      "Confusion Matrix: \n",
      "[[ 47.   3.]\n",
      " [  0.  50.]]\n",
      "Accuracy\t:\t0.97\n",
      "Precision\t:\t0.94\n",
      "Recall\t\t:\t1.0\n",
      "F-Measure\t:\t0.969072164948\n"
     ]
    }
   ],
   "source": [
    "def run(fileName, K):\n",
    "    dataset = getData(\"Iris\")\n",
    "    (rows, cols) = dataset.shape\n",
    "    class_k = np.unique(dataset[:,cols-1])\n",
    "    CV_idx = KFold(len(dataset), n_folds=K)\n",
    "    \n",
    "    i = 0\n",
    "    result = []\n",
    "    for train_idx, test_idx in CV_idx:\n",
    "        result.append(train(dataset, train_idx, test_idx, class_k))\n",
    "        i+=1\n",
    "    \n",
    "    #Interpreting the Results obtained\n",
    "    k = len(class_k)\n",
    "    conf_mat = np.zeros((k, k))\n",
    "    precision = np.empty((1,k))\n",
    "    recall = np.empty((1,k))\n",
    "    accuracy=0\n",
    "    \n",
    "    for j in range(i):\n",
    "        conf_mat = np.add(conf_mat, result[j]['ConfusionMatrix'])\n",
    "        precision = np.vstack((precision, result[j]['precision']))\n",
    "        recall = np.vstack((recall, result[j]['recall']))\n",
    "        accuracy += result[j]['accuracy']\n",
    "    \n",
    "    precision = np.nanmean(precision[1:,:], axis=0)\n",
    "    recall = np.nanmean(recall[1:,:], axis=0)\n",
    "    fMeasure = getFMeasure(precision, recall)\n",
    "    accuracy/=K\n",
    "    \n",
    "    print \"Confusion Matrix: \"\n",
    "    print conf_mat\n",
    "    print \"Accuracy\\t:\\t\", accuracy\n",
    "    print \"Precision\\t:\\t\", precision[0]\n",
    "    print \"Recall\\t\\t:\\t\", recall[0]\n",
    "    print \"F-Measure\\t:\\t\", fMeasure[0]\n",
    "        \n",
    "if __name__ == '__main__':\n",
    "    fileName = \"Iris\"\n",
    "    run(fileName, 10)"
   ]
  },
  {
   "cell_type": "code",
   "execution_count": null,
   "metadata": {
    "collapsed": true
   },
   "outputs": [],
   "source": []
  }
 ],
 "metadata": {
  "kernelspec": {
   "display_name": "Python 2",
   "language": "python",
   "name": "python2"
  },
  "language_info": {
   "codemirror_mode": {
    "name": "ipython",
    "version": 2
   },
   "file_extension": ".py",
   "mimetype": "text/x-python",
   "name": "python",
   "nbconvert_exporter": "python",
   "pygments_lexer": "ipython2",
   "version": "2.7.10"
  }
 },
 "nbformat": 4,
 "nbformat_minor": 0
}
