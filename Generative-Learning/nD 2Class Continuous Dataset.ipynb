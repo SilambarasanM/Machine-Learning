{
 "cells": [
  {
   "cell_type": "markdown",
   "metadata": {},
   "source": [
    "#2. nD 2Class Continuous - Iris Dataset"
   ]
  },
  {
   "cell_type": "code",
   "execution_count": 52,
   "metadata": {
    "collapsed": false
   },
   "outputs": [],
   "source": [
    "from pylab import *\n",
    "%matplotlib inline\n",
    "from sklearn.cross_validation import KFold\n",
    "from sklearn.cross_validation import StratifiedKFold\n",
    "from sklearn.preprocessing import *\n",
    "from sklearn.linear_model import LinearRegression\n",
    "from __future__ import division\n",
    "t=np.seterr(divide='ignore', invalid='ignore')"
   ]
  },
  {
   "cell_type": "markdown",
   "metadata": {},
   "source": [
    "### Preparing the Input Dataset ready"
   ]
  },
  {
   "cell_type": "code",
   "execution_count": 173,
   "metadata": {
    "collapsed": true
   },
   "outputs": [],
   "source": [
    "def getData(fileName):\n",
    "    if fileName == 'Breast-Cancer':\n",
    "        with open('breast-cancer-wisconsin.data','r') as f:\n",
    "            records=[]\n",
    "            for line in f:\n",
    "                records.append(line.split(','))\n",
    "        records = records[2:]\n",
    "        dataset = np.array(records).astype(np.int)\n",
    "    elif fileName == 'Iris':\n",
    "        classCount = 2 #Only two classes required\n",
    "        from sklearn import datasets\n",
    "        data = datasets.load_iris() \n",
    "        #data = datasets.load_boston() \n",
    "        #data = datasets.load_diabetes()\n",
    "        X = data['data']\n",
    "        Y = data['target']\n",
    "        Y = Y.reshape(len(data['target']), 1)\n",
    "        dataset = np.hstack((X, Y))\n",
    "    \n",
    "        idx_k=[]\n",
    "        if classCount == 2:\n",
    "            (m, n) = dataset.shape\n",
    "            class_k = np.unique(dataset[:,n-1])\n",
    "            k = len(class_k)\n",
    "            for i in range(classCount):\n",
    "                idx_k.append(filter((lambda x : dataset[:,n-1][x] == class_k[i]), range(m)))\n",
    "            idx_k = np.concatenate((idx_k[0], idx_k[1]), axis=0)\n",
    "            dataset = dataset[idx_k]\n",
    "    \n",
    "    return dataset"
   ]
  },
  {
   "cell_type": "markdown",
   "metadata": {},
   "source": [
    "###Computing the Confusion Matrix"
   ]
  },
  {
   "cell_type": "code",
   "execution_count": 54,
   "metadata": {
    "collapsed": true
   },
   "outputs": [],
   "source": [
    "def getConfusionMatrix(actual, prediction, class_k):\n",
    "    k = len(class_k)\n",
    "    m = len(actual)\n",
    "    cm = np.zeros((k, k))\n",
    "    for i in range(k):\n",
    "        actual_i = filter(lambda x: actual[x] == class_k[i], range(m))\n",
    "        for j in range(k):\n",
    "            predicted_j = filter(lambda x: prediction[x] == class_k[j], range(m))\n",
    "            cm[i,j] = len(np.intersect1d(actual_i, predicted_j))\n",
    "    return cm "
   ]
  },
  {
   "cell_type": "markdown",
   "metadata": {},
   "source": [
    "###Calculating the Performance Metrics"
   ]
  },
  {
   "cell_type": "code",
   "execution_count": 55,
   "metadata": {
    "collapsed": false
   },
   "outputs": [],
   "source": [
    "def getAccuracy(matrix):\n",
    "    return np.trace(matrix)/np.sum(matrix)\n",
    "\n",
    "def getPrecision(matrix):\n",
    "    k = len(matrix)\n",
    "    precision = np.zeros(k)\n",
    "    for i in range(k):\n",
    "        actual_positives = np.sum(matrix[i])\n",
    "        precision[i] = matrix[i,i]/actual_positives\n",
    "    return precision\n",
    "\n",
    "def getRecall(matrix):\n",
    "    k = len(matrix)\n",
    "    recall = np.zeros(k)\n",
    "    for i in range(k):\n",
    "        predicted_positives = np.sum(matrix[:,i])\n",
    "        recall[i] = matrix[i,i]/predicted_positives\n",
    "    return recall\n",
    "\n",
    "def getFMeasure(precision, recall):\n",
    "    k = len(precision)\n",
    "    fm = np.zeros(k)\n",
    "    for i in range(k):\n",
    "        fm[i] = 2* precision[i]*recall[i]/(precision[i]+recall[i])\n",
    "    return fm"
   ]
  },
  {
   "cell_type": "markdown",
   "metadata": {},
   "source": [
    "###Classifying based on the Membership Function"
   ]
  },
  {
   "cell_type": "code",
   "execution_count": 56,
   "metadata": {
    "collapsed": true
   },
   "outputs": [],
   "source": [
    "def classify(g, class_k):\n",
    "    (m, n) = g.shape\n",
    "    estimate = np.zeros((m,1))\n",
    "    \n",
    "    for i in range(m):\n",
    "            estimate[i] = class_k[np.argmax(g[i])]\n",
    "            \n",
    "    return estimate"
   ]
  },
  {
   "cell_type": "markdown",
   "metadata": {},
   "source": [
    "###Computing the Membership Function"
   ]
  },
  {
   "cell_type": "code",
   "execution_count": 57,
   "metadata": {
    "collapsed": true
   },
   "outputs": [],
   "source": [
    "def computeMembership(X, modelParam):\n",
    "    (m, n) = X.shape\n",
    "    mean_k = modelParam['mean']\n",
    "    covariance_k = modelParam['sigma']\n",
    "    alpha_k = modelParam['alpha']\n",
    "    m_k = modelParam['m']\n",
    "    k = len(m_k)\n",
    "    \n",
    "    g = np.zeros((m,k))\n",
    "    for j in range(k):\n",
    "        if m_k[j] is not 0:\n",
    "            det_sigma_k = np.linalg.det(covariance_k[j])\n",
    "            sigma_inv = np.linalg.inv(covariance_k[j])\n",
    "            for i in range(m):\n",
    "                X_mu = X[i] - mean_k[j]\n",
    "                g[i,j] = -np.log(det_sigma_k) + np.log(alpha_k[j]) - np.dot(np.dot(X_mu, sigma_inv), X_mu.T)\n",
    "        else:\n",
    "            g[:,j] = -inf * np.ones(m)\n",
    "            \n",
    "    return g"
   ]
  },
  {
   "cell_type": "markdown",
   "metadata": {},
   "source": [
    "###Training the Classifier and Testing the Performance"
   ]
  },
  {
   "cell_type": "code",
   "execution_count": 116,
   "metadata": {
    "collapsed": false
   },
   "outputs": [],
   "source": [
    "def train(data, train_idx, test_idx, class_k, mode, threshold):\n",
    "    (m, n) = data.shape\n",
    "    k = len(class_k)\n",
    "    training_data = data[train_idx]\n",
    "    m_train = len(training_data)\n",
    "    X_train = training_data[:,:n-1].reshape((m_train,n-1))\n",
    "    Y_train = training_data[:,n-1].reshape((m_train,1))\n",
    "    \n",
    "    \n",
    "    #Distribution Model = Gaussian\n",
    "    mean_k = {}\n",
    "    covariance_k = {}\n",
    "    m_train_k = {}\n",
    "    X_train_k = {}\n",
    "    train_idx_k = {}\n",
    "    alpha_k = {}\n",
    "    \n",
    "    #Determining Model Parameters\n",
    "    for i in range(k):\n",
    "        train_idx_k[i] = filter((lambda x : data[:,n-1][x] == class_k[i]), train_idx)\n",
    "        X_train_k[i] = data[:, :n-1][train_idx_k[i]]\n",
    "        m_train_k[i] = len(X_train_k[i])\n",
    "        alpha_k[i] = m_train_k[i]/m_train\n",
    "        if m_train_k[i] is not 0:\n",
    "            mean_k[i] = np.mean(X_train_k[i],axis=0)\n",
    "            X_mu_k = X_train_k[i]-mean_k[i]\n",
    "            covariance_k[i] = np.dot(X_mu_k.T,(X_mu_k))/m_train_k[i]\n",
    "    \n",
    "    #Consolidating Model Parameters\n",
    "    modelParam = {}\n",
    "    modelParam['mean'] = mean_k\n",
    "    modelParam['sigma'] = covariance_k\n",
    "    modelParam['alpha'] = alpha_k\n",
    "    modelParam['m'] = m_train_k\n",
    "    result = {}\n",
    "    \n",
    "    #Compute Membership Function\n",
    "    g_train = computeMembership(X_train, modelParam)\n",
    "    \n",
    "    #Classification\n",
    "    if mode == 0: #For Classification\n",
    "        Y_train_hat = classify(g_train, class_k)\n",
    "    if mode == 1: #For PR Curve\n",
    "        Y_train_hat = np.zeros((m_train,1))\n",
    "        d = g_train[:,0] - g_train[:,1]\n",
    "        for i in range(m_train):\n",
    "            if d[i] > threshold:\n",
    "                Y_train_hat[i] = class_k[0]\n",
    "            else:\n",
    "                Y_train_hat[i] = class_k[1]\n",
    "    \n",
    "    #For Debug Purpose: Computing Training Error\n",
    "    '''\n",
    "    confMatrix = getConfusionMatrix(Y_train, Y_train_hat, class_k)    \n",
    "    precision = getPrecision(confMatrix)\n",
    "    accuracy = getAccuracy(confMatrix)\n",
    "    recall = getRecall(confMatrix)\n",
    "    FMeasure = getFMeasure(precision, recall)\n",
    "    result['ConfusionMatrix'] = confMatrix\n",
    "    result['precision'] = precision\n",
    "    result['accuracy'] = accuracy\n",
    "    result['recall'] = recall\n",
    "    result['FMeasure'] = FMeasure\n",
    "    '''\n",
    "    #Testing\n",
    "    test_data = data[test_idx]\n",
    "    m_test = len(test_data)\n",
    "    X_test = test_data[:,:n-1].reshape((m_test,n-1))\n",
    "    Y_test = test_data[:,n-1].reshape((m_test,1))\n",
    "    result = {}\n",
    "    \n",
    "    #Compute Membership Function\n",
    "    g_test = computeMembership(X_test, modelParam)\n",
    "\n",
    "    #Classification\n",
    "    if mode == 0:\n",
    "        Y_test_hat = classify(g_test, class_k)\n",
    "        result['d'] = g_test[:,0] - g_test[:,1]\n",
    "    if mode == 1:\n",
    "        Y_test_hat = np.zeros((m_test,1))\n",
    "        d = g_test[:,0] - g_test[:,1]\n",
    "        for i in range(m_test):\n",
    "            if d[i] > threshold:\n",
    "                Y_test_hat[i] = class_k[0]\n",
    "            else:\n",
    "                Y_test_hat[i] = class_k[1]\n",
    "\n",
    "    \n",
    "    confMatrix = getConfusionMatrix(Y_test, Y_test_hat, class_k)    \n",
    "    precision = getPrecision(confMatrix)\n",
    "    accuracy = getAccuracy(confMatrix)\n",
    "    recall = getRecall(confMatrix)\n",
    "    FMeasure = getFMeasure(precision, recall)\n",
    "\n",
    "    #Consolidating the results\n",
    "    result['ConfusionMatrix'] = confMatrix\n",
    "    result['precision'] = precision\n",
    "    result['accuracy'] = accuracy\n",
    "    result['recall'] = recall\n",
    "    result['FMeasure'] = FMeasure\n",
    "    \n",
    "    return result"
   ]
  },
  {
   "cell_type": "markdown",
   "metadata": {},
   "source": [
    "###For Debug purpose only: To view the PR Curve for the entire dataset"
   ]
  },
  {
   "cell_type": "code",
   "execution_count": 185,
   "metadata": {
    "collapsed": false
   },
   "outputs": [],
   "source": [
    "def plotPRCurve(data, class_k):\n",
    "    (m, n) = data.shape\n",
    "    k = len(class_k)\n",
    "    #print \"m, n, k\", m, n, k\n",
    "    X_train = data[:,:n-1].reshape((m,n-1))\n",
    "    Y_train = data[:,n-1].reshape((m,1))\n",
    "    \n",
    "    #Distribution Model = Gaussian\n",
    "    mean_k = {}\n",
    "    covariance_k = {}\n",
    "    m_train_k = {}\n",
    "    X_train_k = {}\n",
    "    idx_k = {}\n",
    "    alpha_k = {}\n",
    "    \n",
    "    #Determining Model Parameters\n",
    "    for i in range(k):\n",
    "        idx_k[i] = filter((lambda x : data[:,n-1][x] == class_k[i]), range(m))\n",
    "        X_train_k[i] = data[:, :n-1][idx_k[i]]\n",
    "        m_train_k[i] = len(X_train_k[i])\n",
    "        alpha_k[i] = m_train_k[i]/m\n",
    "        if m_train_k[i] is not 0:\n",
    "            mean_k[i] = np.mean(X_train_k[i],axis=0)\n",
    "            X_mu_k = X_train_k[i]-mean_k[i]\n",
    "            covariance_k[i] = np.dot(X_mu_k.T,(X_mu_k))/m_train_k[i]    \n",
    "    \n",
    "    modelParam = {}\n",
    "    modelParam['mean'] = mean_k\n",
    "    modelParam['sigma'] = covariance_k\n",
    "    modelParam['alpha'] = alpha_k\n",
    "    modelParam['m'] = m_train_k\n",
    "    \n",
    "    #Compute Membership Function\n",
    "    g_train = computeMembership(X_train, modelParam)\n",
    "    \n",
    "    #Classification\n",
    "    Y_train_hat = np.zeros((m,1))\n",
    "    \n",
    "    d = g_train[:,0] - g_train[:,1]\n",
    "    start_d = int(round(np.amin(d)))\n",
    "    stop_d = int(round(np.amax(d)))\n",
    "    #print start_d, stop_d\n",
    "    \n",
    "    precision = np.empty((1,k))\n",
    "    recall = np.empty((1,k))\n",
    "\n",
    "    for j in range(start_d-50, stop_d+50, 10):\n",
    "        for i in range(m):\n",
    "            if d[i] > j:\n",
    "                Y_train_hat[i] = class_k[0]\n",
    "            else:\n",
    "                Y_train_hat[i] = class_k[1]\n",
    "        confMatrix = getConfusionMatrix(Y_train, Y_train_hat, class_k)    \n",
    "        #print \"Confusion Matrix\"\n",
    "        #print confMatrix\n",
    "        p = getPrecision(confMatrix)\n",
    "        #print \"Precision\", p[0]\n",
    "        r = getRecall(confMatrix)\n",
    "        #print \"Recall\", r[0]\n",
    "        precision = np.vstack((precision, p))\n",
    "        recall = np.vstack((recall, r))\n",
    "\n",
    "    precision = precision[1:,:]\n",
    "    recall = recall[1:,:]\n",
    "    #print np.trapz(precision[:,0], dx=0.01, axis=0)\n",
    "    \n",
    "    from sklearn import metrics\n",
    "    from sklearn.metrics import precision_recall_curve\n",
    "    print metrics.auc(precision[:,0], recall[:,0])\n",
    "    \n",
    "    #Plotting Curve\n",
    "    fig=plt.figure(figsize=(15,6))\n",
    "    ax = fig.add_subplot(1, 1, 1)\n",
    "    ax.set_title('PR Curve')\n",
    "    ax.set_xlim(min(recall[:,0]), 1.1)\n",
    "    ax.set_ylim(0, 1.5)\n",
    "    ax.set_xlabel('Recall')\n",
    "    ax.set_ylabel('Precision')\n",
    "    ax.plot(recall[:,0], precision[:,0], 'ro')\n",
    "    \n",
    "    return "
   ]
  },
  {
   "cell_type": "markdown",
   "metadata": {},
   "source": [
    "###Main function to perform the experiment"
   ]
  },
  {
   "cell_type": "code",
   "execution_count": 195,
   "metadata": {
    "collapsed": false
   },
   "outputs": [
    {
     "name": "stdout",
     "output_type": "stream",
     "text": [
      "Confusion Matrix\n",
      "[[ 415.   27.]\n",
      " [   6.  233.]]\n",
      "Accuracy\t:\t0.951598465473\n",
      "Precision\t:\t0.931508464593\n",
      "Recall\t\t:\t0.981138376519\n",
      "F-Measure\t:\t0.955679514921\n",
      "AUC\t\t:\t0.740587094816\n"
     ]
    },
    {
     "data": {
      "image/png": "[encoded data removed]",
      "text/plain": [
       "<matplotlib.figure.Figure at 0x183ff8d0>"
      ]
     },
     "metadata": {},
     "output_type": "display_data"
    }
   ],
   "source": [
    "def run(fileName, K):\n",
    "    dataset = getData(fileName)\n",
    "    #dataset = getData1()\n",
    "    (rows, cols) = dataset.shape\n",
    "    class_k = np.unique(dataset[:,cols-1])\n",
    "    k = len(class_k)\n",
    "    #print \"class\", class_k\n",
    "    \n",
    "    CV_idx = KFold(len(dataset), n_folds=K)\n",
    "    i = 0\n",
    "    result = []\n",
    "    \n",
    "    #Gaussian Discriminant Analysis\n",
    "    mode = 0 #Experiment\n",
    "    threshold = 0\n",
    "    \n",
    "    for train_idx, test_idx in CV_idx:\n",
    "        #print len(train_idx), len(test_idx)\n",
    "        result.append(train(dataset, train_idx, test_idx, class_k, mode, threshold))\n",
    "        i+=1\n",
    "    \n",
    "    conf_mat = np.zeros((k, k))\n",
    "    precision = np.empty((1,k))\n",
    "    recall = np.empty((1,k))\n",
    "    d = np.empty((1,2))\n",
    "    accuracy=0\n",
    "    \n",
    "    for j in range(i):\n",
    "        conf_mat = np.add(conf_mat, result[j]['ConfusionMatrix'])\n",
    "        precision = np.vstack((precision, result[j]['precision']))\n",
    "        recall = np.vstack((recall, result[j]['recall']))\n",
    "        accuracy += result[j]['accuracy']\n",
    "        d = np.vstack((d, [np.amin(result[j]['d']), np.amax(result[j]['d'])]))\n",
    "    d = d[1:,:]\n",
    "    start_d = int(round(np.amin(d[:,0])))\n",
    "    stop_d = int(round(np.amax(d[:,1])))\n",
    "    \n",
    "    precision = np.nanmean(precision[1:,:], axis=0)\n",
    "    recall = np.nanmean(recall[1:,:], axis=0)\n",
    "    fMeasure = getFMeasure(precision, recall)\n",
    "    accuracy/=K\n",
    "    \n",
    "    print \"Confusion Matrix\"\n",
    "    print conf_mat\n",
    "    print \"Accuracy\\t:\\t\", accuracy\n",
    "    print \"Precision\\t:\\t\", precision[0]\n",
    "    print \"Recall\\t\\t:\\t\", recall[0]\n",
    "    print \"F-Measure\\t:\\t\", fMeasure[0]\n",
    "    \n",
    "    #For Debug Pupose Only\n",
    "    '''\n",
    "    if cols-1 > 1 and k == 2:\n",
    "        plotPRCurve(dataset, class_k)\n",
    "    '''\n",
    "    \n",
    "    #Plotting Precision-Recall Curve\n",
    "    mode = 1 #PR-Curve Varying Threshold\n",
    "    i = 0\n",
    "    result = []\n",
    "\n",
    "    precision = np.empty((1,k))\n",
    "    recall = np.empty((1,k))\n",
    "    for threshold in range(start_d, stop_d, 25):\n",
    "        for train_idx, test_idx in CV_idx:\n",
    "            result.append(train(dataset, train_idx, test_idx, class_k, mode, threshold))\n",
    "            i+=1\n",
    "    \n",
    "        p = np.empty((1,k))\n",
    "        r = np.empty((1,k))\n",
    "    \n",
    "        for j in range(i):\n",
    "            precision = np.vstack((precision, result[j]['precision']))\n",
    "            recall = np.vstack((recall, result[j]['recall']))\n",
    "    \n",
    "        p = np.nanmean(p[1:,:], axis=0)\n",
    "        r = np.nanmean(r[1:,:], axis=0)\n",
    "        precision = np.vstack((precision, p))\n",
    "        recall = np.vstack((recall, r))\n",
    "        \n",
    "    precision = precision[1:,:]\n",
    "    recall = recall[1:,:]    \n",
    "    tmp = precision[:,0]\n",
    "    tmp = tmp[~np.isnan(tmp)]\n",
    "    print \"AUC\\t\\t:\\t\", np.nanmean(tmp)\n",
    "    \n",
    "    fig=plt.figure(figsize=(15,5))\n",
    "    ax = fig.add_subplot(1, 1, 1)\n",
    "    ax.set_title('Precision-Recall Curve')\n",
    "    ax.set_xlim(min(recall[:,0]), 1.1)\n",
    "    ax.set_ylim(0, 1.1)\n",
    "    ax.set_xlabel('Recall')\n",
    "    ax.set_ylabel('Precision')\n",
    "    ax.plot(recall[:,0], precision[:,0], 'ro')\n",
    "    #ax.plot(recall[:,1], precision[:,1], 'bs')\n",
    "    ax.scatter(recall[:,0], precision[:,0], marker='o')\n",
    "    \n",
    "    #'''\n",
    "    \n",
    "if __name__ == '__main__':\n",
    "    #fileName='Iris'\n",
    "    fileName='Breast-Cancer'\n",
    "    run(fileName,10)"
   ]
  },
  {
   "cell_type": "code",
   "execution_count": null,
   "metadata": {
    "collapsed": true
   },
   "outputs": [],
   "source": []
  }
 ],
 "metadata": {
  "kernelspec": {
   "display_name": "Python 2",
   "language": "python",
   "name": "python2"
  },
  "language_info": {
   "codemirror_mode": {
    "name": "ipython",
    "version": 2
   },
   "file_extension": ".py",
   "mimetype": "text/x-python",
   "name": "python",
   "nbconvert_exporter": "python",
   "pygments_lexer": "ipython2",
   "version": "2.7.10"
  }
 },
 "nbformat": 4,
 "nbformat_minor": 0
}
