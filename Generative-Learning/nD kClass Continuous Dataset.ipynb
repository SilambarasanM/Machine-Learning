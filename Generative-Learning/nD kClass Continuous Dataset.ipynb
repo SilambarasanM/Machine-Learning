{
 "cells": [
  {
   "cell_type": "markdown",
   "metadata": {},
   "source": [
    "#3. nD kClass Continuous - Iris Dataset"
   ]
  },
  {
   "cell_type": "code",
   "execution_count": 21,
   "metadata": {
    "collapsed": true
   },
   "outputs": [],
   "source": [
    "from pylab import *\n",
    "%matplotlib inline\n",
    "from sklearn.cross_validation import KFold\n",
    "from sklearn.preprocessing import *\n",
    "from sklearn.linear_model import LinearRegression\n",
    "from __future__ import division\n",
    "t=np.seterr(divide='ignore', invalid='ignore')"
   ]
  },
  {
   "cell_type": "markdown",
   "metadata": {},
   "source": [
    "###Preparing the Dataset for the experiment"
   ]
  },
  {
   "cell_type": "code",
   "execution_count": 22,
   "metadata": {
    "collapsed": true
   },
   "outputs": [],
   "source": [
    "def getData():\n",
    "    from sklearn import datasets\n",
    "    data = datasets.load_iris() \n",
    "    #data = datasets.load_boston() \n",
    "    #data = datasets.load_diabetes()\n",
    "    \n",
    "    X = data['data']\n",
    "    Y = data['target']\n",
    "    Y = Y.reshape(len(data['target']), 1)\n",
    "    dataset = np.hstack((X, Y))\n",
    "    return dataset"
   ]
  },
  {
   "cell_type": "markdown",
   "metadata": {},
   "source": [
    "###Computing the Confusion Matrix"
   ]
  },
  {
   "cell_type": "code",
   "execution_count": 23,
   "metadata": {
    "collapsed": true
   },
   "outputs": [],
   "source": [
    "def getConfusionMatrix(actual, prediction, class_k):\n",
    "    k = len(class_k)\n",
    "    m = len(actual)\n",
    "    cm = np.zeros((k, k))\n",
    "    for i in range(k):\n",
    "        actual_i = filter(lambda x: actual[x] == class_k[i], range(m))\n",
    "        for j in range(k):\n",
    "            predicted_j = filter(lambda x: prediction[x] == class_k[j], range(m))\n",
    "            cm[i,j] = len(np.intersect1d(actual_i, predicted_j))\n",
    "    return cm "
   ]
  },
  {
   "cell_type": "markdown",
   "metadata": {},
   "source": [
    "###Calculating the Performance Metrics"
   ]
  },
  {
   "cell_type": "code",
   "execution_count": 24,
   "metadata": {
    "collapsed": false
   },
   "outputs": [],
   "source": [
    "def getAccuracy(matrix):\n",
    "    return np.trace(matrix)/np.sum(matrix)\n",
    "\n",
    "def getPrecision(matrix):\n",
    "    k = len(matrix)\n",
    "    precision = np.zeros(k)\n",
    "    for i in range(k):\n",
    "        actual_positives = np.sum(matrix[i])\n",
    "        precision[i] = matrix[i,i]/actual_positives\n",
    "    return precision\n",
    "\n",
    "def getRecall(matrix):\n",
    "    k = len(matrix)\n",
    "    recall = np.zeros(k)\n",
    "    for i in range(k):\n",
    "        predicted_positives = np.sum(matrix[:,i])\n",
    "        recall[i] = matrix[i,i]/predicted_positives\n",
    "    return recall\n",
    "\n",
    "def getFMeasure(precision, recall):\n",
    "    k = len(precision)\n",
    "    fm = np.zeros(k)\n",
    "    for i in range(k):\n",
    "        fm[i] = 2* precision[i]*recall[i]/(precision[i]+recall[i])\n",
    "    return fm"
   ]
  },
  {
   "cell_type": "markdown",
   "metadata": {},
   "source": [
    "###Classifying based on the Membership Function"
   ]
  },
  {
   "cell_type": "code",
   "execution_count": 25,
   "metadata": {
    "collapsed": true
   },
   "outputs": [],
   "source": [
    "def classify(g, class_k):\n",
    "    (m, n) = g.shape\n",
    "    estimate = np.zeros((m,1))\n",
    "    \n",
    "    for i in range(m):\n",
    "            estimate[i] = class_k[np.argmax(g[i])]\n",
    "            \n",
    "    return estimate"
   ]
  },
  {
   "cell_type": "markdown",
   "metadata": {},
   "source": [
    "###Computing the Membership Function"
   ]
  },
  {
   "cell_type": "code",
   "execution_count": 26,
   "metadata": {
    "collapsed": true
   },
   "outputs": [],
   "source": [
    "def computeMembership(X, modelParam):\n",
    "    (m, n) = X.shape\n",
    "    mean_k = modelParam['mean']\n",
    "    covariance_k = modelParam['sigma']\n",
    "    alpha_k = modelParam['alpha']\n",
    "    m_k = modelParam['m']\n",
    "    k = len(m_k)\n",
    "    \n",
    "    g = np.zeros((m,k))\n",
    "    for j in range(k):\n",
    "        if m_k[j] is not 0:\n",
    "            det_sigma_k = np.linalg.det(covariance_k[j])\n",
    "            sigma_inv = np.linalg.inv(covariance_k[j])\n",
    "            for i in range(m):\n",
    "                X_mu = X[i] - mean_k[j]\n",
    "                g[i,j] = -np.log(det_sigma_k) + np.log(alpha_k[j]) - np.dot(np.dot(X_mu, sigma_inv), X_mu.T)\n",
    "        else:\n",
    "            g[:,j] = -inf * np.ones(m)\n",
    "            \n",
    "    return g"
   ]
  },
  {
   "cell_type": "markdown",
   "metadata": {},
   "source": [
    "###Training the Classifier and Testing the Performance"
   ]
  },
  {
   "cell_type": "code",
   "execution_count": 27,
   "metadata": {
    "collapsed": false
   },
   "outputs": [],
   "source": [
    "def train(data, train_idx, test_idx, class_k):\n",
    "    (m, n) = data.shape\n",
    "    k = len(class_k)\n",
    "    training_data = data[train_idx]\n",
    "    m_train = len(training_data)\n",
    "    X_train = training_data[:,:n-1].reshape((m_train,n-1))\n",
    "    Y_train = training_data[:,n-1].reshape((m_train,1))\n",
    "    \n",
    "    \n",
    "    #Distribution Model = Gaussian\n",
    "    mean_k = {}\n",
    "    covariance_k = {}\n",
    "    m_train_k = {}\n",
    "    X_train_k = {}\n",
    "    train_idx_k = {}\n",
    "    alpha_k = {}\n",
    "    \n",
    "    #Determining Model Parameters\n",
    "    for i in range(k):\n",
    "        train_idx_k[i] = filter((lambda x : data[:,n-1][x] == class_k[i]), train_idx)\n",
    "        X_train_k[i] = data[:, :n-1][train_idx_k[i]]\n",
    "        m_train_k[i] = len(X_train_k[i])\n",
    "        alpha_k[i] = m_train_k[i]/m_train\n",
    "        if m_train_k[i] is not 0:\n",
    "            mean_k[i] = np.mean(X_train_k[i],axis=0)\n",
    "            X_mu_k = X_train_k[i]-mean_k[i]\n",
    "            covariance_k[i] = np.dot(X_mu_k.T,(X_mu_k))/m_train_k[i]\n",
    "    \n",
    "    #Consolidating the Model Parameters\n",
    "    modelParam = {}\n",
    "    modelParam['mean'] = mean_k\n",
    "    modelParam['sigma'] = covariance_k\n",
    "    modelParam['alpha'] = alpha_k\n",
    "    modelParam['m'] = m_train_k\n",
    "    \n",
    "    #Compute Membership Function\n",
    "    g_train = computeMembership(X_train, modelParam)\n",
    "    \n",
    "    #Classification\n",
    "    Y_train_hat = classify(g_train, class_k)\n",
    "    \n",
    "    #For Debug Purpose Only: Computing the Training Error\n",
    "    '''\n",
    "    result = {}\n",
    "    confMatrix = getConfusionMatrix(Y_train, Y_train_hat, class_k)    \n",
    "    precision = getPrecision(confMatrix)\n",
    "    accuracy = getAccuracy(confMatrix)\n",
    "    recall = getRecall(confMatrix)\n",
    "    FMeasure = getFMeasure(precision, recall)\n",
    "    result['ConfusionMatrix'] = confMatrix\n",
    "    result['precision'] = precision\n",
    "    result['accuracy'] = accuracy\n",
    "    result['recall'] = recall\n",
    "    result['FMeasure'] = FMeasure\n",
    "    '''\n",
    "    \n",
    "    test_data = data[test_idx]\n",
    "    m_test = len(test_data)\n",
    "    X_test = test_data[:,:n-1].reshape((m_test,n-1))\n",
    "    Y_test = test_data[:,n-1].reshape((m_test,1))\n",
    "    \n",
    "    #Compute Membership Function\n",
    "    g_test = computeMembership(X_test, modelParam)\n",
    "\n",
    "    #Classification\n",
    "    Y_test_hat = classify(g_test, class_k)\n",
    "    \n",
    "    #Calculating the Performance Metrics on Test data\n",
    "    result = {}\n",
    "    confMatrix = getConfusionMatrix(Y_test, Y_test_hat, class_k)    \n",
    "    precision = getPrecision(confMatrix)\n",
    "    accuracy = getAccuracy(confMatrix)\n",
    "    recall = getRecall(confMatrix)\n",
    "    FMeasure = getFMeasure(precision, recall)\n",
    "    \n",
    "    #Consolidating the Results\n",
    "    result['ConfusionMatrix'] = confMatrix\n",
    "    result['precision'] = precision\n",
    "    result['accuracy'] = accuracy\n",
    "    result['recall'] = recall\n",
    "    result['FMeasure'] = FMeasure\n",
    "    \n",
    "    return result"
   ]
  },
  {
   "cell_type": "code",
   "execution_count": 29,
   "metadata": {
    "collapsed": false
   },
   "outputs": [
    {
     "name": "stdout",
     "output_type": "stream",
     "text": [
      "Confusion Matrix\n",
      "[[ 50.   0.   0.]\n",
      " [  0.  46.   4.]\n",
      " [  0.   1.  49.]]\n",
      "Accuracy:\t0.966666666667\n",
      "Precision:\t[ 1.          0.93333333  0.98333333]\n",
      "Recall:\t\t[ 1.          0.8         0.66666667]\n",
      "F-Measure:\t[ 1.          0.86153846  0.79461279]\n"
     ]
    }
   ],
   "source": [
    "def run(fileName, K):\n",
    "    dataset = getData()\n",
    "    (rows, cols) = dataset.shape\n",
    "    class_k = np.unique(dataset[:,cols-1])\n",
    "    CV_idx = KFold(len(dataset), n_folds=K)\n",
    "    i = 0\n",
    "    result = []\n",
    "    \n",
    "    #Classification - K Fold\n",
    "    for train_idx, test_idx in CV_idx:\n",
    "        result.append(train(dataset, train_idx, test_idx, class_k))\n",
    "        i+=1\n",
    "    \n",
    "    #Interpreting the Results\n",
    "    k = len(class_k)\n",
    "    conf_mat = np.zeros((k, k))\n",
    "    precision = np.empty((1,k))\n",
    "    recall = np.empty((1,k))\n",
    "    accuracy=0\n",
    "    \n",
    "    for j in range(i):\n",
    "        conf_mat = np.add(conf_mat, result[j]['ConfusionMatrix'])\n",
    "        precision = np.vstack((precision, result[j]['precision']))\n",
    "        recall = np.vstack((recall, result[j]['recall']))\n",
    "        accuracy += result[j]['accuracy']\n",
    "    \n",
    "    precision = np.nanmean(precision[1:,:], axis=0)\n",
    "    recall = np.nanmean(recall[1:,:], axis=0)\n",
    "    fMeasure = getFMeasure(precision, recall)\n",
    "    accuracy/=K\n",
    "    print \"Confusion Matrix\"\n",
    "    print conf_mat\n",
    "    print \"Accuracy:\\t\", accuracy\n",
    "    print \"Precision:\\t\", precision\n",
    "    print \"Recall:\\t\\t\", recall\n",
    "    print \"F-Measure:\\t\", fMeasure\n",
    "        \n",
    "if __name__ == '__main__':\n",
    "    i=0\n",
    "    run(i,10)"
   ]
  },
  {
   "cell_type": "code",
   "execution_count": null,
   "metadata": {
    "collapsed": true
   },
   "outputs": [],
   "source": []
  }
 ],
 "metadata": {
  "kernelspec": {
   "display_name": "Python 2",
   "language": "python",
   "name": "python2"
  },
  "language_info": {
   "codemirror_mode": {
    "name": "ipython",
    "version": 2
   },
   "file_extension": ".py",
   "mimetype": "text/x-python",
   "name": "python",
   "nbconvert_exporter": "python",
   "pygments_lexer": "ipython2",
   "version": "2.7.10"
  }
 },
 "nbformat": 4,
 "nbformat_minor": 0
}
