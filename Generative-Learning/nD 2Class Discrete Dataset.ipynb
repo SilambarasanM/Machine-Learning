{
 "cells": [
  {
   "cell_type": "markdown",
   "metadata": {},
   "source": [
    "#5. nD 2Class Discrete - Spambase"
   ]
  },
  {
   "cell_type": "code",
   "execution_count": 132,
   "metadata": {
    "collapsed": false
   },
   "outputs": [],
   "source": [
    "from pylab import *\n",
    "%matplotlib inline\n",
    "from sklearn.cross_validation import KFold\n",
    "from sklearn.preprocessing import *\n",
    "from sklearn.linear_model import LinearRegression\n",
    "from __future__ import division\n",
    "t=np.seterr(divide='ignore', invalid='ignore')"
   ]
  },
  {
   "cell_type": "markdown",
   "metadata": {},
   "source": [
    "###Preparing the dataset for the experiment"
   ]
  },
  {
   "cell_type": "code",
   "execution_count": 133,
   "metadata": {
    "collapsed": false
   },
   "outputs": [],
   "source": [
    "def getData():\n",
    "    with open('spambase.data','r') as f:\n",
    "        records=[]\n",
    "        for line in f:\n",
    "            records.append(line.split(','))\n",
    "    data = np.array(records).astype(np.float)\n",
    "    \n",
    "    (m, n) = data.shape\n",
    "    Y = data[:, n-1].reshape(m,1)\n",
    "    P = data[:,n-2].reshape(m,1)\n",
    "    X = data[:, :n-4].reshape(m,n-4)\n",
    "    for i in range(m):\n",
    "        for j in range(n-4):\n",
    "            if X[i,j] > 0:\n",
    "                X[i,j] *= P[i]/100.0\n",
    "    data = np.hstack((X,P,Y))\n",
    "    data = data.astype(np.int)\n",
    "    \n",
    "    return data    "
   ]
  },
  {
   "cell_type": "markdown",
   "metadata": {},
   "source": [
    "###Computing the Confusion Matrix"
   ]
  },
  {
   "cell_type": "code",
   "execution_count": 72,
   "metadata": {
    "collapsed": true
   },
   "outputs": [],
   "source": [
    "def getConfusionMatrix(actual, prediction, class_k):\n",
    "    k = len(class_k)\n",
    "    m = len(actual)\n",
    "    cm = np.zeros((k, k))\n",
    "    for i in range(k):\n",
    "        actual_i = filter(lambda x: actual[x] == class_k[i], range(m))\n",
    "        for j in range(k):\n",
    "            predicted_j = filter(lambda x: prediction[x] == class_k[j], range(m))\n",
    "            cm[i,j] = len(np.intersect1d(actual_i, predicted_j))\n",
    "    return cm "
   ]
  },
  {
   "cell_type": "markdown",
   "metadata": {},
   "source": [
    "###Calculating the Performance Metrics"
   ]
  },
  {
   "cell_type": "code",
   "execution_count": 73,
   "metadata": {
    "collapsed": false
   },
   "outputs": [],
   "source": [
    "def getAccuracy(matrix):\n",
    "    return np.trace(matrix)/np.sum(matrix)\n",
    "\n",
    "def getPrecision(matrix):\n",
    "    k = len(matrix)\n",
    "    precision = np.zeros(k)\n",
    "    for i in range(k):\n",
    "        actual_positives = np.sum(matrix[i])\n",
    "        precision[i] = matrix[i,i]/actual_positives\n",
    "    return precision\n",
    "\n",
    "def getRecall(matrix):\n",
    "    k = len(matrix)\n",
    "    recall = np.zeros(k)\n",
    "    for i in range(k):\n",
    "        predicted_positives = np.sum(matrix[:,i])\n",
    "        recall[i] = matrix[i,i]/predicted_positives\n",
    "    return recall\n",
    "\n",
    "def getFMeasure(precision, recall):\n",
    "    k = len(precision)\n",
    "    fm = np.zeros(k)\n",
    "    for i in range(k):\n",
    "        fm[i] = 2* precision[i]*recall[i]/(precision[i]+recall[i])\n",
    "    return fm"
   ]
  },
  {
   "cell_type": "markdown",
   "metadata": {},
   "source": [
    "###Classifying based on Membership Function"
   ]
  },
  {
   "cell_type": "code",
   "execution_count": 74,
   "metadata": {
    "collapsed": true
   },
   "outputs": [],
   "source": [
    "def classify(g, class_k):\n",
    "    (m, n) = g.shape\n",
    "    estimate = np.zeros((m,1))\n",
    "    \n",
    "    for i in range(m):\n",
    "            estimate[i] = class_k[np.argmax(g[i])]\n",
    "            \n",
    "    return estimate"
   ]
  },
  {
   "cell_type": "markdown",
   "metadata": {},
   "source": [
    "###Computing the Membership Function"
   ]
  },
  {
   "cell_type": "code",
   "execution_count": 128,
   "metadata": {
    "collapsed": false
   },
   "outputs": [],
   "source": [
    "def computeMembership(data, modelParam):\n",
    "    from scipy.special import comb\n",
    "    (m, n) = data.shape\n",
    "    X = data[:,:n-1]\n",
    "    P = data[:, n-1]\n",
    "    condProb_k = modelParam['condProb']\n",
    "    alpha_k = modelParam['prior']\n",
    "    m_k = modelParam['m']\n",
    "    \n",
    "    k = len(m_k)    \n",
    "    g = np.zeros((m,k))\n",
    "    for mail in range(m):\n",
    "        for j in range(k):\n",
    "            g[mail, j] = np.log(alpha_k[j])\n",
    "            for i in range(n-1):\n",
    "                if X[mail,i] <> 0:\n",
    "                    g[mail,j] += np.log(comb(P[mail],X[mail,i], exact=False)) \n",
    "                    g[mail,j] += (X[mail,i]*np.log(condProb_k[i,j]))\n",
    "                g[mail,j] += (P[mail]*np.log(1-condProb_k[i,j]))\n",
    "    return g"
   ]
  },
  {
   "cell_type": "markdown",
   "metadata": {},
   "source": [
    "###Training the Classifier and Testing the Performance"
   ]
  },
  {
   "cell_type": "code",
   "execution_count": 136,
   "metadata": {
    "collapsed": false
   },
   "outputs": [],
   "source": [
    "def train(data, train_idx, test_idx, class_k):\n",
    "    (m, n) = data.shape\n",
    "    k = len(class_k)\n",
    "    training_data = data[train_idx]\n",
    "    m_train = len(training_data)\n",
    "    X_train = training_data[:,:n-2].reshape((m_train,n-2))\n",
    "    P_train = training_data[:,n-2].reshape((m_train,1))\n",
    "    Y_train = training_data[:,n-1].reshape((m_train,1))\n",
    "    \n",
    "    \n",
    "    #Distribution Model: Naive Bayes-Binomial\n",
    "    condProb_k = np.zeros((n-2, k))\n",
    "    m_train_k = {}\n",
    "    X_train_k = {}\n",
    "    train_idx_k = {}\n",
    "    alpha_k = {}\n",
    "    P_train_k = {}\n",
    "    \n",
    "    #Laplacian Smoothing\n",
    "    epsilon = 0.01\n",
    "    \n",
    "    #Determining Model Parameters\n",
    "    for i in range(k):\n",
    "        train_idx_k[i] = filter((lambda x : data[:,n-1][x] == class_k[i]), train_idx)\n",
    "        X_train_k[i] = data[:, :n-2][train_idx_k[i]]\n",
    "        P_train_k[i] = data[:,n-2][train_idx_k[i]]\n",
    "        m_train_k[i] = len(X_train_k[i])\n",
    "        alpha_k[i] = m_train_k[i]/m_train\n",
    "\n",
    "        for j in range(n-2):\n",
    "            m_n_k = 0\n",
    "            for x in range(m_train_k[i]):\n",
    "                m_n_k += X_train_k[i][x,j]\n",
    "            condProb_k[j,i] = (m_n_k+epsilon)/(np.sum(P_train_k[i])+(k*epsilon))\n",
    "    \n",
    "    #Consolidating the Model Parameters\n",
    "    modelParam = {}\n",
    "    modelParam['condProb'] = condProb_k\n",
    "    modelParam['prior'] = alpha_k\n",
    "    modelParam['m'] = m_train_k\n",
    "\n",
    "    #Compute Membership Function\n",
    "    input_data = np.hstack((X_train,P_train))\n",
    "    g_train = computeMembership(input_data, modelParam)\n",
    "    \n",
    "    #Classification\n",
    "    Y_train_hat = classify(g_train, class_k)\n",
    "    \n",
    "    #For Debug Pupose Only: Computing Training Performance\n",
    "    '''\n",
    "    result = {}\n",
    "    confMatrix = getConfusionMatrix(Y_train, Y_train_hat, class_k)    \n",
    "    precision = getPrecision(confMatrix)\n",
    "    accuracy = getAccuracy(confMatrix)\n",
    "    recall = getRecall(confMatrix)\n",
    "    FMeasure = getFMeasure(precision, recall)\n",
    "    \n",
    "    result['ConfusionMatrix'] = confMatrix\n",
    "    result['precision'] = precision\n",
    "    result['accuracy'] = accuracy\n",
    "    result['recall'] = recall\n",
    "    result['FMeasure'] = FMeasure\n",
    "    '''\n",
    "    \n",
    "    #Testing\n",
    "    test_data = data[test_idx]\n",
    "    m_test = len(test_data)\n",
    "    X_test = test_data[:,:n-2].reshape((m_test,n-2))\n",
    "    P_test = test_data[:,n-2].reshape((m_test,1))\n",
    "    Y_test = test_data[:,n-1].reshape((m_test,1))\n",
    "    input_data = np.hstack((X_test,P_test))\n",
    "    \n",
    "    #Compute Membership Function\n",
    "    g_test = computeMembership(input_data, modelParam)\n",
    "\n",
    "    #Classification\n",
    "    Y_test_hat = classify(g_test, class_k)\n",
    "    \n",
    "    result = {}\n",
    "    confMatrix = getConfusionMatrix(Y_test, Y_test_hat, class_k)    \n",
    "    precision = getPrecision(confMatrix)\n",
    "    accuracy = getAccuracy(confMatrix)\n",
    "    recall = getRecall(confMatrix)\n",
    "    FMeasure = getFMeasure(precision, recall)\n",
    "    \n",
    "    #Consolidating the Results\n",
    "    result['ConfusionMatrix'] = confMatrix\n",
    "    result['precision'] = precision\n",
    "    result['accuracy'] = accuracy\n",
    "    result['recall'] = recall\n",
    "    result['FMeasure'] = FMeasure\n",
    "    \n",
    "    return result"
   ]
  },
  {
   "cell_type": "code",
   "execution_count": 139,
   "metadata": {
    "collapsed": false
   },
   "outputs": [
    {
     "name": "stdout",
     "output_type": "stream",
     "text": [
      "Confusion Matrix\n",
      "[[ 2562.   226.]\n",
      " [  479.  1334.]]\n",
      "Accuracy\t:\t0.846809865133\n",
      "Precision\t:\t[ 0.92981366  0.7357646 ]\n",
      "Recall\t\t:\t[ 0.61944444  0.4       ]\n",
      "F-Measure\t:\t[ 0.74354029  0.51825148]\n"
     ]
    }
   ],
   "source": [
    "def run(K):\n",
    "    dataset = getData()\n",
    "    (rows, cols) = dataset.shape\n",
    "    class_k = np.unique(dataset[:,cols-1])\n",
    "    CV_idx = KFold(len(dataset), n_folds=K)\n",
    "    i = 0\n",
    "    result = []\n",
    "    \n",
    "    #K-Fold Classification\n",
    "    for train_idx, test_idx in CV_idx:\n",
    "        result.append(train(dataset, train_idx, test_idx, class_k))\n",
    "        i+=1\n",
    "    \n",
    "    #Interpreting Results\n",
    "    k = len(class_k)\n",
    "    conf_mat = np.zeros((k, k))\n",
    "    precision = np.empty((1,k))\n",
    "    recall = np.empty((1,k))\n",
    "    accuracy=0\n",
    "    \n",
    "    for j in range(i):\n",
    "        conf_mat = np.add(conf_mat, result[j]['ConfusionMatrix'])\n",
    "        precision = np.vstack((precision, result[j]['precision']))\n",
    "        recall = np.vstack((recall, result[j]['recall']))\n",
    "        accuracy += result[j]['accuracy']\n",
    "    \n",
    "    precision = np.nanmean(precision[1:,:], axis=0)\n",
    "    recall = np.nanmean(recall[1:,:], axis=0)\n",
    "    fMeasure = getFMeasure(precision, recall)\n",
    "    accuracy/=K\n",
    "    \n",
    "    print \"Confusion Matrix\"\n",
    "    print conf_mat\n",
    "    print \"Accuracy\\t:\\t\", accuracy\n",
    "    print \"Precision\\t:\\t\", precision\n",
    "    print \"Recall\\t\\t:\\t\", recall\n",
    "    print \"F-Measure\\t:\\t\", fMeasure\n",
    "    \n",
    "if __name__ == '__main__':\n",
    "    run(10)"
   ]
  },
  {
   "cell_type": "code",
   "execution_count": null,
   "metadata": {
    "collapsed": true
   },
   "outputs": [],
   "source": []
  }
 ],
 "metadata": {
  "kernelspec": {
   "display_name": "Python 2",
   "language": "python",
   "name": "python2"
  },
  "language_info": {
   "codemirror_mode": {
    "name": "ipython",
    "version": 2
   },
   "file_extension": ".py",
   "mimetype": "text/x-python",
   "name": "python",
   "nbconvert_exporter": "python",
   "pygments_lexer": "ipython2",
   "version": "2.7.10"
  }
 },
 "nbformat": 4,
 "nbformat_minor": 0
}
