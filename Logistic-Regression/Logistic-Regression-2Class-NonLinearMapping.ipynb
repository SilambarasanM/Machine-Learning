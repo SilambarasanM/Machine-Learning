{
 "cells": [
  {
   "cell_type": "markdown",
   "metadata": {},
   "source": [
    "##1.b. Using Non-Linear Combination of Inputs for the Classifier"
   ]
  },
  {
   "cell_type": "code",
   "execution_count": 23,
   "metadata": {
    "collapsed": true
   },
   "outputs": [],
   "source": [
    "from pylab import *\n",
    "%matplotlib inline\n",
    "from sklearn.cross_validation import KFold\n",
    "from sklearn.cross_validation import StratifiedKFold\n",
    "from sklearn.preprocessing import *\n",
    "from sklearn.linear_model import LinearRegression\n",
    "from __future__ import division\n",
    "import random\n",
    "t=np.seterr(divide='ignore', invalid='ignore')"
   ]
  },
  {
   "cell_type": "markdown",
   "metadata": {},
   "source": [
    "###Get the input dataset"
   ]
  },
  {
   "cell_type": "code",
   "execution_count": 24,
   "metadata": {
    "collapsed": true
   },
   "outputs": [],
   "source": [
    "def getData(fileName):\n",
    "    if fileName == 'Breast-Cancer':\n",
    "        with open('breast-cancer-wisconsin.data','r') as f:\n",
    "            records=[]\n",
    "            for line in f:\n",
    "                records.append(line.split(','))\n",
    "        records = records[2:]\n",
    "        dataset = np.array(records).astype(np.int)        \n",
    "    elif fileName == 'Iris':\n",
    "        classCount = 2 #2 #Only two classes required\n",
    "        from sklearn import datasets\n",
    "        data = datasets.load_iris() \n",
    "        X = data['data']\n",
    "        Y = data['target']\n",
    "        Y = Y.reshape(len(data['target']), 1)\n",
    "        dataset = np.hstack((X, Y))\n",
    "    \n",
    "        idx_k=[]\n",
    "        if classCount == 2:\n",
    "            (m, n) = dataset.shape\n",
    "            class_k = np.unique(dataset[:,n-1])\n",
    "            k = len(class_k)\n",
    "            for i in range(classCount):\n",
    "                idx_k.append(filter((lambda x : dataset[:,n-1][x] == class_k[i]), range(m)))\n",
    "            idx_k = np.concatenate((idx_k[0], idx_k[1]), axis=0)\n",
    "            dataset = dataset[idx_k]\n",
    "    elif fileName == \"Bank\":\n",
    "        with open('data_banknote_authentication.txt') as f:\n",
    "            records=[]\n",
    "            for line in f:\n",
    "                records.append(line.split(','))\n",
    "        records = records[2:]\n",
    "        dataset = np.array(records).astype(float)\n",
    "    \n",
    "    return dataset"
   ]
  },
  {
   "cell_type": "markdown",
   "metadata": {},
   "source": [
    "###Normalize the input dataset"
   ]
  },
  {
   "cell_type": "code",
   "execution_count": 25,
   "metadata": {
    "collapsed": false
   },
   "outputs": [],
   "source": [
    "def normalize(data):\n",
    "    \n",
    "    [nrows, ncols] = data.shape\n",
    "    col_mean = np.zeros(ncols-1).reshape(ncols-1, 1)\n",
    "    col_sd = np.zeros(ncols-1).reshape(ncols-1, 1)\n",
    "    normalized_data = data.astype(float64)\n",
    "    \n",
    "    for i in range(ncols-1):\n",
    "        col_mean[i] = np.mean(data[:,i])\n",
    "        col_sd = np.std(data[:,i])\n",
    "        normalized_data[:,i] = [(data[:,i][j] - col_mean[i])/col_sd for j in range(nrows)]\n",
    "    return normalized_data"
   ]
  },
  {
   "cell_type": "markdown",
   "metadata": {},
   "source": [
    "###Calculate the Confusion Matrix"
   ]
  },
  {
   "cell_type": "code",
   "execution_count": 26,
   "metadata": {
    "collapsed": true
   },
   "outputs": [],
   "source": [
    "def getConfusionMatrix(actual, prediction, class_k):\n",
    "    k = len(class_k)\n",
    "    m = len(actual)\n",
    "    cm = np.zeros((k, k))\n",
    "    for i in range(k):\n",
    "        actual_i = filter(lambda x: actual[x] == class_k[i], range(m))\n",
    "        for j in range(k):\n",
    "            predicted_j = filter(lambda x: prediction[x] == class_k[j], range(m))\n",
    "            cm[i,j] = len(np.intersect1d(actual_i, predicted_j))\n",
    "    return cm "
   ]
  },
  {
   "cell_type": "markdown",
   "metadata": {},
   "source": [
    "###Calculate the performance metrics"
   ]
  },
  {
   "cell_type": "code",
   "execution_count": 27,
   "metadata": {
    "collapsed": true
   },
   "outputs": [],
   "source": [
    "def getAccuracy(matrix):\n",
    "    return np.trace(matrix)/np.sum(matrix)\n",
    "\n",
    "def getPrecision(matrix):\n",
    "    k = len(matrix)\n",
    "    precision = np.zeros(k)\n",
    "    for i in range(k):\n",
    "        actual_positives = np.sum(matrix[i])\n",
    "        precision[i] = matrix[i,i]/actual_positives\n",
    "    return precision\n",
    "\n",
    "def getRecall(matrix):\n",
    "    k = len(matrix)\n",
    "    recall = np.zeros(k)\n",
    "    for i in range(k):\n",
    "        predicted_positives = np.sum(matrix[:,i])\n",
    "        recall[i] = matrix[i,i]/predicted_positives\n",
    "    return recall\n",
    "\n",
    "def getFMeasure(precision, recall):\n",
    "    k = len(precision)\n",
    "    fm = np.zeros(k)\n",
    "    for i in range(k):\n",
    "        fm[i] = 2* precision[i]*recall[i]/(precision[i]+recall[i])\n",
    "    return fm"
   ]
  },
  {
   "cell_type": "markdown",
   "metadata": {},
   "source": [
    "###Perform Classification"
   ]
  },
  {
   "cell_type": "code",
   "execution_count": 28,
   "metadata": {
    "collapsed": true
   },
   "outputs": [],
   "source": [
    "def classify(g, class_k):\n",
    "    m = len(g)\n",
    "    estimate = np.zeros((m,1))\n",
    "    for i in range(m):\n",
    "        if g[i] <0.5:\n",
    "            estimate[i] = class_k[0]\n",
    "        else:\n",
    "            estimate[i] = class_k[1]            \n",
    "    return estimate"
   ]
  },
  {
   "cell_type": "markdown",
   "metadata": {},
   "source": [
    "###Calculate the Hyposthesis value"
   ]
  },
  {
   "cell_type": "code",
   "execution_count": 29,
   "metadata": {
    "collapsed": false
   },
   "outputs": [],
   "source": [
    "def hypothesis(X, theta):\n",
    "    import math\n",
    "    scores = np.dot(theta.T, X)\n",
    "    sigmoid = 1/(1.0 + np.exp(-1*scores))\n",
    "    return sigmoid"
   ]
  },
  {
   "cell_type": "markdown",
   "metadata": {},
   "source": [
    "###Calculate the Indicator function output"
   ]
  },
  {
   "cell_type": "code",
   "execution_count": 30,
   "metadata": {
    "collapsed": true
   },
   "outputs": [],
   "source": [
    "def identity_func(label, actual_label):\n",
    "    if label == actual_label:\n",
    "        return 1\n",
    "    return 0"
   ]
  },
  {
   "cell_type": "markdown",
   "metadata": {},
   "source": [
    "###Perform Training and calculate error"
   ]
  },
  {
   "cell_type": "code",
   "execution_count": 68,
   "metadata": {
    "collapsed": false
   },
   "outputs": [],
   "source": [
    "def train(data, train_idx, test_idx, class_k, degree, theta0, learning_rate, iterations):\n",
    "    \n",
    "    (m, n) = data.shape\n",
    "    \n",
    "    k = len(class_k)\n",
    "    training_data = data[train_idx]\n",
    "    m_train = len(training_data)\n",
    "    X_train = training_data[:,:n-1].reshape((m_train,n-1))\n",
    "    Y_train = training_data[:,n-1].reshape((m_train,1))\n",
    "    \n",
    "    poly = PolynomialFeatures(degree)\n",
    "    Z_train = poly.fit_transform(X_train)\n",
    "    \n",
    "    randomIdx = np.arange(m_train)\n",
    "    random.shuffle(randomIdx)\n",
    "    Z_train = Z_train[randomIdx]\n",
    "    (m_train, nz) = Z_train.shape\n",
    "    Y_train = Y_train[randomIdx]\n",
    "    theta_old = np.zeros(nz)\n",
    "    theta_old.fill(theta0)\n",
    "    theta = np.zeros(nz)\n",
    "    indicator = np.zeros(m_train)\n",
    "    eps = 1\n",
    "    \n",
    "    indicator = [identity_func(class_k[1],x) for x in Y_train]\n",
    "    \n",
    "    for z in range(iterations):\n",
    "        for j in range(m_train): #training samples\n",
    "            h_theta = hypothesis(Z_train[j],theta_old)\n",
    "            gradient = learning_rate * (h_theta - indicator[j]) * Z_train[j].T\n",
    "            theta = theta_old - gradient\n",
    "            eps = np.max(theta_old - theta)\n",
    "            theta_old = theta\n",
    "            if eps <= 0.0000001:\n",
    "                break\n",
    "            \n",
    "    #Compute Hypothesis\n",
    "    h_train = np.zeros(m_train)\n",
    "    for i in range(m_train):\n",
    "        h_train[i] = hypothesis(Z_train[i], theta)\n",
    "    \n",
    "    #Classification\n",
    "    Y_train_hat = classify(h_train, class_k)\n",
    "    \n",
    "    #Testing\n",
    "    test_data = data[test_idx]\n",
    "    m_test = len(test_data)\n",
    "    X_test = test_data[:,:n-1].reshape((m_test,n-1))\n",
    "    Y_test = test_data[:,n-1].reshape((m_test,1))\n",
    "    result = {}\n",
    "    \n",
    "    #Non Linear Mapping\n",
    "    poly = PolynomialFeatures(degree)\n",
    "    Z_test = poly.fit_transform(X_test)\n",
    "    \n",
    "    #Compute Hypothesis\n",
    "    h_test = np.zeros(m_test)\n",
    "    for i in range(m_test):\n",
    "        h_test[i] = hypothesis(Z_test[i], theta)\n",
    "    \n",
    "    #Classification\n",
    "    Y_test_hat = classify(h_test, class_k)\n",
    "    \n",
    "    confMatrix = getConfusionMatrix(Y_test, Y_test_hat, class_k) \n",
    "    precision = getPrecision(confMatrix)\n",
    "    accuracy = getAccuracy(confMatrix)\n",
    "    recall = getRecall(confMatrix)\n",
    "    FMeasure = getFMeasure(precision, recall)\n",
    "    \n",
    "    \n",
    "    #Consolidating the results\n",
    "    result['ConfusionMatrix'] = confMatrix\n",
    "    result['precision'] = precision\n",
    "    result['accuracy'] = accuracy\n",
    "    result['recall'] = recall\n",
    "    result['FMeasure'] = FMeasure\n",
    "    \n",
    "    return result"
   ]
  },
  {
   "cell_type": "markdown",
   "metadata": {},
   "source": [
    "###Runs the algorithm"
   ]
  },
  {
   "cell_type": "code",
   "execution_count": 69,
   "metadata": {
    "collapsed": false
   },
   "outputs": [
    {
     "name": "stdout",
     "output_type": "stream",
     "text": [
      "Confusion Matrix\n",
      "[[ 50.   0.]\n",
      " [  0.  50.]]\n",
      "Accuracy\t:\t1.0\n",
      "Precision\t:\t1.0\n",
      "Recall\t\t:\t1.0\n",
      "F-Measure\t:\t1.0\n"
     ]
    }
   ],
   "source": [
    "def run(fileName, K):\n",
    "    dataset = getData(fileName)\n",
    "    (rows, cols) = dataset.shape\n",
    "    class_k = np.unique(dataset[:,cols-1])\n",
    "    k = len(class_k)\n",
    "    \n",
    "    CV_idx = KFold(len(dataset), n_folds=K)\n",
    "    i = 0\n",
    "    result = []\n",
    "    \n",
    "    normalized_dataset = normalize(dataset.reshape((len(dataset),len(dataset[0]))))\n",
    "    theta0 = 0.01\n",
    "    learning_rate = 0.2\n",
    "    iterations = 1000\n",
    "    degree = 3\n",
    "    \n",
    "    for train_idx, test_idx in CV_idx:\n",
    "        result.append(train(normalized_dataset, train_idx, test_idx, class_k, degree, theta0, learning_rate, iterations))\n",
    "        i+=1\n",
    "    \n",
    "    \n",
    "    conf_mat = np.zeros((k, k))\n",
    "    precision = np.empty((1,k))\n",
    "    recall = np.empty((1,k))\n",
    "    accuracy=0\n",
    "    \n",
    "    for j in range(i):\n",
    "        conf_mat = np.add(conf_mat, result[j]['ConfusionMatrix'])\n",
    "        precision = np.vstack((precision, result[j]['precision']))\n",
    "        recall = np.vstack((recall, result[j]['recall']))\n",
    "        accuracy += result[j]['accuracy']\n",
    "    \n",
    "    precision = np.nanmean(precision[1:,:], axis=0)\n",
    "    recall = np.nanmean(recall[1:,:], axis=0)\n",
    "    fMeasure = getFMeasure(precision, recall)\n",
    "    accuracy/=K\n",
    "    \n",
    "    print \"Confusion Matrix\"\n",
    "    print conf_mat\n",
    "    print \"Accuracy\\t:\\t\", accuracy\n",
    "    print \"Precision\\t:\\t\", precision[0]\n",
    "    print \"Recall\\t\\t:\\t\", recall[0]\n",
    "    print \"F-Measure\\t:\\t\", fMeasure[0]\n",
    "    \n",
    "if __name__ == '__main__':\n",
    "    \n",
    "    fileName='Iris'\n",
    "    #fileName=\"Bank\"\n",
    "    #fileName='Breast-Cancer'\n",
    "    run(fileName,10)"
   ]
  },
  {
   "cell_type": "code",
   "execution_count": null,
   "metadata": {
    "collapsed": true
   },
   "outputs": [],
   "source": []
  }
 ],
 "metadata": {
  "kernelspec": {
   "display_name": "Python 2",
   "language": "python",
   "name": "python2"
  },
  "language_info": {
   "codemirror_mode": {
    "name": "ipython",
    "version": 2
   },
   "file_extension": ".py",
   "mimetype": "text/x-python",
   "name": "python",
   "nbconvert_exporter": "python",
   "pygments_lexer": "ipython2",
   "version": "2.7.10"
  }
 },
 "nbformat": 4,
 "nbformat_minor": 0
}
