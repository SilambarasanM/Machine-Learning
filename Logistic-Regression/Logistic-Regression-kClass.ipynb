{
 "cells": [
  {
   "cell_type": "markdown",
   "metadata": {},
   "source": [
    "##1.c. Logistic Regression for K-class discrimination"
   ]
  },
  {
   "cell_type": "code",
   "execution_count": 35,
   "metadata": {
    "collapsed": true
   },
   "outputs": [],
   "source": [
    "from pylab import *\n",
    "%matplotlib inline\n",
    "from sklearn.cross_validation import KFold\n",
    "from sklearn.cross_validation import StratifiedKFold\n",
    "from sklearn.preprocessing import *\n",
    "from sklearn.linear_model import LinearRegression\n",
    "from __future__ import division\n",
    "import random\n",
    "t=np.seterr(divide='ignore', invalid='ignore')"
   ]
  },
  {
   "cell_type": "markdown",
   "metadata": {},
   "source": [
    "###Get the input dataset"
   ]
  },
  {
   "cell_type": "code",
   "execution_count": 84,
   "metadata": {
    "collapsed": true
   },
   "outputs": [],
   "source": [
    "def getData(fileName):\n",
    "    if fileName == 'Breast-Cancer':\n",
    "        with open('breast-cancer-wisconsin.data','r') as f:\n",
    "            records=[]\n",
    "            for line in f:\n",
    "                records.append(line.split(','))\n",
    "        records = records[2:]\n",
    "        dataset = np.array(records).astype(np.int)\n",
    "        dataset = normalize(dataset)\n",
    "        \n",
    "    elif fileName == 'Iris':\n",
    "        from sklearn import datasets\n",
    "        data = datasets.load_iris() \n",
    "        X = data['data']\n",
    "        Y = data['target']\n",
    "        Y = Y.reshape(len(data['target']), 1)\n",
    "        dataset = np.hstack((X, Y))\n",
    "        dataset = normalize(dataset)\n",
    "        \n",
    "    elif fileName=='mnist':\n",
    "        from sklearn.datasets import fetch_mldata\n",
    "        data = fetch_mldata('mnist-original', data_home='C:\\\\Users\\\\admin\\\\Anaconda\\\\CS584')\n",
    "        randIdx = np.zeros(1000).astype(int) #Take only 1000 random rows\n",
    "        for i in range(1000):\n",
    "            randIdx[i] = random.randint(0, 69999)\n",
    "            \n",
    "        Y = data['target']\n",
    "        X = data['data']/255. #Normalization\n",
    "        Y = Y.reshape(len(Y), 1)\n",
    "        dataset = np.hstack((X, Y))\n",
    "        dataset = dataset[randIdx]\n",
    "    return dataset"
   ]
  },
  {
   "cell_type": "markdown",
   "metadata": {},
   "source": [
    "###Normalize the given dataset"
   ]
  },
  {
   "cell_type": "code",
   "execution_count": 73,
   "metadata": {
    "collapsed": false
   },
   "outputs": [],
   "source": [
    "def normalize(data):\n",
    "    \n",
    "    [nrows, ncols] = data.shape\n",
    "    col_mean = np.zeros(ncols-1).reshape(ncols-1, 1)\n",
    "    col_sd = np.zeros(ncols-1).reshape(ncols-1, 1)\n",
    "    normalized_data = data.astype(float64)\n",
    "    \n",
    "    for i in range(ncols-1):\n",
    "        col_mean[i] = np.mean(data[:,i])\n",
    "        col_sd = np.std(data[:,i])\n",
    "        normalized_data[:,i] = [(data[:,i][j] - col_mean[i])/col_sd for j in range(nrows)]\n",
    "        \n",
    "    return normalized_data"
   ]
  },
  {
   "cell_type": "markdown",
   "metadata": {},
   "source": [
    "###Calculate the Confusion Matrix"
   ]
  },
  {
   "cell_type": "code",
   "execution_count": 38,
   "metadata": {
    "collapsed": true
   },
   "outputs": [],
   "source": [
    "def getConfusionMatrix(actual, prediction, class_k):\n",
    "    k = len(class_k)\n",
    "    m = len(actual)\n",
    "    cm = np.zeros((k, k))\n",
    "    for i in range(k):\n",
    "        actual_i = filter(lambda x: actual[x] == class_k[i], range(m))\n",
    "        for j in range(k):\n",
    "            predicted_j = filter(lambda x: prediction[x] == class_k[j], range(m))\n",
    "            cm[i,j] = len(np.intersect1d(actual_i, predicted_j))\n",
    "    return cm "
   ]
  },
  {
   "cell_type": "markdown",
   "metadata": {},
   "source": [
    "###Calulate the Performance Metrics"
   ]
  },
  {
   "cell_type": "code",
   "execution_count": 39,
   "metadata": {
    "collapsed": true
   },
   "outputs": [],
   "source": [
    "def getAccuracy(matrix):\n",
    "    return np.trace(matrix)/np.sum(matrix)\n",
    "\n",
    "def getPrecision(matrix):\n",
    "    k = len(matrix)\n",
    "    precision = np.zeros(k)\n",
    "    for i in range(k):\n",
    "        actual_positives = np.sum(matrix[i])\n",
    "        precision[i] = matrix[i,i]/actual_positives\n",
    "    return precision\n",
    "\n",
    "def getRecall(matrix):\n",
    "    k = len(matrix)\n",
    "    recall = np.zeros(k)\n",
    "    for i in range(k):\n",
    "        predicted_positives = np.sum(matrix[:,i])\n",
    "        recall[i] = matrix[i,i]/predicted_positives\n",
    "    return recall\n",
    "\n",
    "def getFMeasure(precision, recall):\n",
    "    k = len(precision)\n",
    "    fm = np.zeros(k)\n",
    "    for i in range(k):\n",
    "        fm[i] = 2* precision[i]*recall[i]/(precision[i]+recall[i])\n",
    "    return fm"
   ]
  },
  {
   "cell_type": "markdown",
   "metadata": {},
   "source": [
    "###Perform Classification"
   ]
  },
  {
   "cell_type": "code",
   "execution_count": 40,
   "metadata": {
    "collapsed": true
   },
   "outputs": [],
   "source": [
    "def classify(g, class_k):\n",
    "    (m, n) = g.shape\n",
    "    estimate = np.zeros((m,1))\n",
    "    \n",
    "    for i in range(m):\n",
    "            estimate[i] = class_k[np.argmax(g[i])]\n",
    "            \n",
    "    return estimate"
   ]
  },
  {
   "cell_type": "markdown",
   "metadata": {},
   "source": [
    "###Calculate the Hyposthesis Value"
   ]
  },
  {
   "cell_type": "code",
   "execution_count": 41,
   "metadata": {
    "collapsed": false
   },
   "outputs": [],
   "source": [
    "def hypothesis(X, theta):\n",
    "    import math\n",
    "    scores = np.dot(theta.T, X)\n",
    "    softMax = np.exp(scores)/np.sum(np.exp(scores))\n",
    "    return softMax"
   ]
  },
  {
   "cell_type": "markdown",
   "metadata": {},
   "source": [
    "###Calculate the Indicator function Output"
   ]
  },
  {
   "cell_type": "code",
   "execution_count": 42,
   "metadata": {
    "collapsed": true
   },
   "outputs": [],
   "source": [
    "def identity(label, actual_label):\n",
    "    if label == actual_label:\n",
    "        return 1\n",
    "    return 0"
   ]
  },
  {
   "cell_type": "markdown",
   "metadata": {},
   "source": [
    "###Train and calculate the error"
   ]
  },
  {
   "cell_type": "code",
   "execution_count": 74,
   "metadata": {
    "collapsed": false
   },
   "outputs": [],
   "source": [
    "def train(data, train_idx, test_idx, class_k, theta0, learning_rate, iterations):\n",
    "    \n",
    "    (m, n) = data.shape\n",
    "    \n",
    "    k = len(class_k)\n",
    "    training_data = data[train_idx]\n",
    "    m_train = len(training_data)\n",
    "    X_train = training_data[:,:n-1].reshape((m_train,n-1))\n",
    "    Y_train = training_data[:,n-1].reshape((m_train,1))\n",
    "    X_ones = np.ones((m_train, 1))\n",
    "    X_train = np.hstack((X_ones,X_train))\n",
    "    \n",
    "    randomIdx = np.arange(m_train)\n",
    "    random.shuffle(randomIdx)\n",
    "    X_train = X_train[randomIdx]\n",
    "    Y_train = Y_train[randomIdx]\n",
    "    theta_old = np.zeros((n,k))\n",
    "    theta_old.fill(theta0)\n",
    "    theta = np.zeros((n,k))\n",
    "    indicator = np.zeros((m_train, k))\n",
    "    eps = np.ones(class_k.shape)\n",
    "    \n",
    "    for i in range(k):\n",
    "        indicator[:,i] = [identity(class_k[i],x) for x in Y_train]\n",
    "    \n",
    "    for z in range(iterations):\n",
    "        for j in range(m_train): #training samples\n",
    "            h_theta = hypothesis(X_train[j],theta_old)\n",
    "            for i in range(k):                  \n",
    "                gradient = learning_rate * (h_theta[i] - indicator[j,i]) * X_train[j].T\n",
    "                theta[:,i] = theta_old[:,i] - gradient\n",
    "                eps[i] = np.max(theta_old[:,i] - theta[:,i])\n",
    "                theta_old[:,i] = theta[:,i]\n",
    "                if eps[i] <= 0.000001:\n",
    "                    break\n",
    "    \n",
    "    #Compute Hypothesis\n",
    "    h_train = np.zeros((m_train,k))\n",
    "    for i in range(m_train):\n",
    "        h_train[i] = hypothesis(X_train[i], theta)\n",
    "    \n",
    "    #Classification\n",
    "    Y_train_hat = classify(h_train, class_k)\n",
    "\n",
    "    #Testing\n",
    "    test_data = data[test_idx]\n",
    "    m_test = len(test_data)\n",
    "    X_test = test_data[:,:n-1].reshape((m_test,n-1))\n",
    "    Y_test = test_data[:,n-1].reshape((m_test,1))\n",
    "    X_ones = np.ones((m_test, 1))\n",
    "    X_test = np.hstack((X_ones,X_test))\n",
    "    result = {}\n",
    "    \n",
    "    #Compute Hypothesis\n",
    "    h_test = np.zeros((m_test,k))\n",
    "    for i in range(m_test):\n",
    "        h_test[i] = np.dot(theta.T, X_test[i])\n",
    "\n",
    "    #Classification\n",
    "    Y_test_hat = classify(h_test, class_k)\n",
    "    \n",
    "    confMatrix = getConfusionMatrix(Y_test, Y_test_hat, class_k) \n",
    "    precision = getPrecision(confMatrix)\n",
    "    accuracy = getAccuracy(confMatrix)\n",
    "    recall = getRecall(confMatrix)\n",
    "    FMeasure = getFMeasure(precision, recall)\n",
    "    \n",
    "    #Consolidating the results\n",
    "    result['ConfusionMatrix'] = confMatrix\n",
    "    result['precision'] = precision\n",
    "    result['accuracy'] = accuracy\n",
    "    result['recall'] = recall\n",
    "    result['FMeasure'] = FMeasure\n",
    "    \n",
    "    return result"
   ]
  },
  {
   "cell_type": "markdown",
   "metadata": {},
   "source": [
    "###Run the algorithm"
   ]
  },
  {
   "cell_type": "code",
   "execution_count": 85,
   "metadata": {
    "collapsed": false
   },
   "outputs": [
    {
     "name": "stdout",
     "output_type": "stream",
     "text": [
      "Confusion Matrix\n",
      "[[ 99.   0.   0.   0.   0.   5.   1.   0.   1.   0.]\n",
      " [  0.  97.   2.   1.   0.   0.   1.   0.  25.   0.]\n",
      " [  2.   0.  67.   2.   1.   3.   9.   0.  10.   1.]\n",
      " [  0.   0.   2.  66.   0.  14.   0.   0.  14.   1.]\n",
      " [  1.   0.   0.   1.  72.  10.   0.   0.   3.  16.]\n",
      " [  4.   0.   2.   6.   1.  76.   4.   0.   7.   1.]\n",
      " [  2.   0.   3.   0.   1.   5.  70.   0.   2.   0.]\n",
      " [  2.   1.   1.   1.   1.   9.   0.  53.   4.  10.]\n",
      " [  1.   1.   3.   1.   1.   9.   0.   0.  85.   0.]\n",
      " [  1.   0.   4.   3.  17.   6.   0.   4.   6.  65.]]\n",
      "Accuracy\t:\t0.75\n",
      "Precision\t:\t[ 0.93457209  0.79722976  0.699993    0.70571678  0.68974525  0.75808081\n",
      "  0.85809969  0.65025974  0.83571429  0.63283951]\n",
      "Recall\t\t:\t[ 0.88143107  0.97888889  0.80822039  0.8165898   0.78837302  0.56304813\n",
      "  0.835       0.9520202   0.54433582  0.76392136]\n",
      "F-Measure\t:\t[ 0.90722406  0.8787694   0.75022357  0.75711573  0.73576866  0.64616854\n",
      "  0.84639227  0.77272441  0.65926479  0.69222961]\n"
     ]
    }
   ],
   "source": [
    "def run(fileName, K):\n",
    "    dataset = getData(fileName)\n",
    "\n",
    "    (rows, cols) = dataset.shape\n",
    "    class_k = np.unique(dataset[:,cols-1])\n",
    "    k = len(class_k)\n",
    "    \n",
    "    CV_idx = KFold(len(dataset), n_folds=K)\n",
    "    i = 0\n",
    "    result = []\n",
    "    \n",
    "    theta0 = 0.01\n",
    "    learning_rate = 0.1\n",
    "    iterations = 1000\n",
    "    \n",
    "    for train_idx, test_idx in CV_idx:\n",
    "        result.append(train(dataset, train_idx, test_idx, class_k, theta0, learning_rate, iterations))\n",
    "        i+=1\n",
    "    \n",
    "    \n",
    "    conf_mat = np.zeros((k, k))\n",
    "    precision = np.empty((1,k))\n",
    "    recall = np.empty((1,k))\n",
    "    accuracy=0\n",
    "    \n",
    "    for j in range(i):\n",
    "        conf_mat = np.add(conf_mat, result[j]['ConfusionMatrix'])\n",
    "        precision = np.vstack((precision, result[j]['precision']))\n",
    "        recall = np.vstack((recall, result[j]['recall']))\n",
    "        accuracy += result[j]['accuracy']\n",
    "    \n",
    "    precision = np.nanmean(precision[1:,:], axis=0)\n",
    "    recall = np.nanmean(recall[1:,:], axis=0)\n",
    "    fMeasure = getFMeasure(precision, recall)\n",
    "    accuracy/=K\n",
    "    \n",
    "    print \"Confusion Matrix\"\n",
    "    print conf_mat\n",
    "    print \"Accuracy\\t:\\t\", accuracy\n",
    "    print \"Precision\\t:\\t\", precision\n",
    "    print \"Recall\\t\\t:\\t\", recall\n",
    "    print \"F-Measure\\t:\\t\", fMeasure\n",
    "    \n",
    "if __name__ == '__main__':\n",
    "    #fileName='Iris'\n",
    "    #fileName='Breast-Cancer'\n",
    "    fileName = 'mnist'\n",
    "    run(fileName,10)"
   ]
  },
  {
   "cell_type": "code",
   "execution_count": null,
   "metadata": {
    "collapsed": true
   },
   "outputs": [],
   "source": []
  }
 ],
 "metadata": {
  "kernelspec": {
   "display_name": "Python 2",
   "language": "python",
   "name": "python2"
  },
  "language_info": {
   "codemirror_mode": {
    "name": "ipython",
    "version": 2
   },
   "file_extension": ".py",
   "mimetype": "text/x-python",
   "name": "python",
   "nbconvert_exporter": "python",
   "pygments_lexer": "ipython2",
   "version": "2.7.10"
  }
 },
 "nbformat": 4,
 "nbformat_minor": 0
}
