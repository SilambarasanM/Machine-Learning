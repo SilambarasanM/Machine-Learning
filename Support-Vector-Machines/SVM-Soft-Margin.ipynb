{
 "cells": [
  {
   "cell_type": "markdown",
   "metadata": {},
   "source": [
    "##2. Linear SVM with Soft Margin"
   ]
  },
  {
   "cell_type": "code",
   "execution_count": 1,
   "metadata": {
    "collapsed": false
   },
   "outputs": [],
   "source": [
    "from pylab import *\n",
    "%matplotlib inline\n",
    "from sklearn.cross_validation import KFold\n",
    "from sklearn.cross_validation import StratifiedKFold\n",
    "from sklearn.preprocessing import *\n",
    "from cvxopt import matrix\n",
    "from cvxopt import solvers\n",
    "#from __future__ import division\n",
    "import random\n",
    "t=np.seterr(divide='ignore', invalid='ignore')\n",
    "solvers.options['show_progress'] = False"
   ]
  },
  {
   "cell_type": "markdown",
   "metadata": {},
   "source": [
    "###Generate Synthetic Linear and Non-Linear Dataset"
   ]
  },
  {
   "cell_type": "code",
   "execution_count": 2,
   "metadata": {
    "collapsed": true
   },
   "outputs": [],
   "source": [
    "def normalize(data):\n",
    "    \n",
    "    [nrows, ncols] = data.shape\n",
    "    col_mean = np.zeros(ncols-1).reshape(ncols-1, 1)\n",
    "    col_sd = np.zeros(ncols-1).reshape(ncols-1, 1)\n",
    "    normalized_data = data.astype(float64)\n",
    "    \n",
    "    for i in range(ncols-1):\n",
    "        col_mean[i] = np.mean(data[:,i])\n",
    "        col_sd = np.std(data[:,i])\n",
    "        normalized_data[:,i] = [(data[:,i][j] - col_mean[i])/col_sd for j in range(nrows)]\n",
    "    \n",
    "    #print \"Normal\", normalized_data\n",
    "    return normalized_data"
   ]
  },
  {
   "cell_type": "markdown",
   "metadata": {},
   "source": [
    "###Generating for the Classification"
   ]
  },
  {
   "cell_type": "code",
   "execution_count": 17,
   "metadata": {
    "collapsed": false
   },
   "outputs": [],
   "source": [
    "def getData(data, size):\n",
    "    \n",
    "    if data=='Linear':\n",
    "        '''\n",
    "        x = np.zeros(size)\n",
    "        y = np.zeros(size)\n",
    "        c = np.zeros(size)\n",
    "        \n",
    "        for i in range(size):\n",
    "            if i <size/2:\n",
    "                x[i] = random.uniform(-10,0)\n",
    "                c[i] = -1\n",
    "            else:\n",
    "                x[i] = random.uniform(0,10)\n",
    "                c[i] = 1\n",
    "            y[i] = random.uniform(-10,10)\n",
    "            dataset = vstack((x,y,c)).T\n",
    "            dataset = normalize(dataset)\n",
    "        '''\n",
    "        mean1 = np.array([0, 1])\n",
    "        mean2 = np.array([1, 0])\n",
    "        cov = np.array([[0.4, 0.3], [0.3, 0.4]])\n",
    "        target = np.array([1, -1])\n",
    "        sample = int(size/2)\n",
    "        \n",
    "        x1 = np.random.multivariate_normal(mean1, cov, sample)\n",
    "        #print \"x1\", x1.shape\n",
    "        y1 = np.ones(len(x1)) * target[0]\n",
    "        y1 = y1.reshape(sample,1)\n",
    "        #print \"y1\", y1.shape\n",
    "        x2 = np.random.multivariate_normal(mean2, cov, sample)\n",
    "        y2 = np.ones(len(x2)) * target[1]\n",
    "        y2 = y2.reshape(sample,1)\n",
    "        \n",
    "        c1 = np.hstack((x1,y1))\n",
    "        c2 = np.hstack((x2,y2))\n",
    "        dataset = np.vstack((c1,c2))\n",
    "        #'''\n",
    "        \n",
    "    elif data == 'Non-Separable':\n",
    "        mean = np.array([0, 1])\n",
    "        cov = np.array([[1.4, 1.3], [1.3, 1.4]])\n",
    "        target = np.array([1, -1])\n",
    "        sample = int(size/2)\n",
    "        \n",
    "        x1 = np.random.multivariate_normal(mean, cov, sample)\n",
    "        #print \"x1\", x1.shape\n",
    "        y1 = np.ones(len(x1)) * target[0]\n",
    "        y1 = y1.reshape(sample,1)\n",
    "        #print \"y1\", y1.shape\n",
    "        x2 = np.random.multivariate_normal(mean, cov, sample)\n",
    "        y2 = np.ones(len(x2)) * target[1]\n",
    "        y2 = y2.reshape(sample,1)\n",
    "        \n",
    "        c1 = np.hstack((x1,y1))\n",
    "        c2 = np.hstack((x2,y2))\n",
    "        dataset = np.vstack((c1,c2))\n",
    "        \n",
    "    elif data == 'Iris':\n",
    "        from sklearn import datasets\n",
    "        data = datasets.load_iris()\n",
    "        #data = datasets.load_diabetes()\n",
    "        X = data['data']\n",
    "        Y = data['target']\n",
    "        Y = Y.reshape(len(data['target']), 1)\n",
    "        dataset = np.hstack((X, Y))\n",
    "        \n",
    "        idx_k=[]\n",
    "        (m, n) = dataset.shape\n",
    "        class_k = np.unique(dataset[:,n-1])\n",
    "        k = len(class_k)\n",
    "        for i in range(2):\n",
    "            idx_k.append(filter((lambda x : dataset[:,n-1][x] == class_k[i]), range(m)))\n",
    "        idx_k = np.concatenate((idx_k[0], idx_k[1]), axis=0)\n",
    "        dataset = dataset[idx_k]\n",
    "        X = dataset[:,:-1]\n",
    "        Y = dataset[:,-1]\n",
    "        print \"X\", X.shape\n",
    "        print \"Y\", Y.shape\n",
    "        class_k = np.unique(Y)\n",
    "        for i in range(len(idx_k)):\n",
    "            if Y[i] == class_k[0]:\n",
    "                Y[i] = -1\n",
    "            else:\n",
    "                Y[i] = 1\n",
    "        Y= Y.reshape(len(idx_k),1)\n",
    "        dataset = np.hstack((X,Y))\n",
    "        dataset = normalize(dataset)\n",
    "        \n",
    "    elif data == 'Breast-Cancer':\n",
    "        with open('breast-cancer-wisconsin.data','r') as f:\n",
    "            records=[]\n",
    "            for line in f:\n",
    "                records.append(line.split(','))\n",
    "        records = records[2:]\n",
    "        dataset = np.array(records).astype(np.int)\n",
    "        \n",
    "        class_k = np.unique(dataset[:,-1])\n",
    "        for i in range(len(dataset)):\n",
    "            if dataset[i,-1] == class_k[0]:\n",
    "                dataset[i,-1] = -1\n",
    "            else:\n",
    "                dataset[i,-1] = 1\n",
    "        dataset = normalize(dataset)\n",
    "        \n",
    "    elif data == \"Bank\":\n",
    "        with open('data_banknote_authentication.txt') as f:\n",
    "            records=[]\n",
    "            for line in f:\n",
    "                records.append(line.split(','))\n",
    "        records = records[2:]\n",
    "        dataset = np.array(records).astype(float)\n",
    "        class_k = np.unique(dataset[:,-1])\n",
    "        for i in range(len(dataset)):\n",
    "            if dataset[i,-1] == class_k[0]:\n",
    "                dataset[i,-1] = -1\n",
    "            else:\n",
    "                dataset[i,-1] = 1\n",
    "        dataset = normalize(dataset)     \n",
    "    #return normalize(dataset)\n",
    "    return dataset"
   ]
  },
  {
   "cell_type": "markdown",
   "metadata": {},
   "source": [
    "###Calculate the Lagrange Multipliers"
   ]
  },
  {
   "cell_type": "code",
   "execution_count": 5,
   "metadata": {
    "collapsed": false
   },
   "outputs": [],
   "source": [
    "def getLagrangeMultipliers(x, y, C):\n",
    "    (m, n) = x.shape\n",
    "    \n",
    "    p = (np.dot(y, y.T) * np.dot(x, x.T))\n",
    "    P = matrix(p, (m, m))\n",
    "    #print \"P\", P\n",
    "        \n",
    "    q = np.ones(m) * -1\n",
    "    Q = matrix(q, (m,1), tc='d')\n",
    "    #print \"Q\", Q.size, Q\n",
    "        \n",
    "    A = matrix(y.T, (1,m))\n",
    "    #print \"A\", A\n",
    "        \n",
    "    b = matrix(0.0)\n",
    "    #print \"b\", b\n",
    "        \n",
    "    g1 = np.diag(np.ones(m) * -1)\n",
    "    g2 = np.identity(m)\n",
    "        \n",
    "    #print \"g1,g2\", g1.shape, g2.shape\n",
    "    g = np.vstack((g1,g2))\n",
    "    #print \"g\", g.shape, g\n",
    "    G = matrix(g, (2*m, m)) #softmargin\n",
    "    #print \"G\", G\n",
    "        \n",
    "    h1 = np.zeros(m).reshape(m,1)\n",
    "    h2 = np.ones(m).reshape(m,1)\n",
    "    h2 = h2 * C\n",
    "    #print \"h1,h2\", h1.shape, h2.shape\n",
    "    H = np.vstack((h1,h2))\n",
    "    #print \"h\", H.shape\n",
    "    h = matrix(H, (2*m,1)) #soft margin\n",
    "    \n",
    "    #print \"H\", h\n",
    "        \n",
    "    sol = solvers.qp(P,Q, G, h, A, b)\n",
    "    \n",
    "    return sol['x']"
   ]
  },
  {
   "cell_type": "code",
   "execution_count": 6,
   "metadata": {
    "collapsed": true
   },
   "outputs": [],
   "source": [
    "def getSVIdx(alpha, threshold):\n",
    "    (m, n) = alpha.shape\n",
    "    svIdx = []\n",
    "    \n",
    "    for i in range(m):\n",
    "        if alpha[i] > threshold:\n",
    "            svIdx.append(i)\n",
    "\n",
    "    return svIdx"
   ]
  },
  {
   "cell_type": "code",
   "execution_count": 7,
   "metadata": {
    "collapsed": true
   },
   "outputs": [],
   "source": [
    "def getConfusionMatrix(actual, prediction, labels):\n",
    "    #print \"incoming\", actual, prediction\n",
    "    k = len(labels)\n",
    "    m = len(actual)\n",
    "    cm = np.zeros((k, k))\n",
    "    for i in range(k):\n",
    "        actual_i = filter(lambda x: actual[x] == labels[i], range(m))\n",
    "        for j in range(k):\n",
    "            predicted_j = filter(lambda x: prediction[x] == labels[j], range(m))\n",
    "            cm[i,j] = len(np.intersect1d(actual_i, predicted_j))\n",
    "    #print \"outgoing\", cm\n",
    "    return cm"
   ]
  },
  {
   "cell_type": "code",
   "execution_count": 8,
   "metadata": {
    "collapsed": true
   },
   "outputs": [],
   "source": [
    "def getAccuracy(matrix):\n",
    "    return np.trace(matrix)/np.sum(matrix)\n",
    "\n",
    "def getPrecision(matrix):\n",
    "    k = len(matrix)\n",
    "    precision = np.zeros(k)\n",
    "    for i in range(k):\n",
    "        actual_positives = np.sum(matrix[i])\n",
    "        precision[i] = matrix[i,i]/actual_positives\n",
    "    return precision\n",
    "\n",
    "def getRecall(matrix):\n",
    "    k = len(matrix)\n",
    "    recall = np.zeros(k)\n",
    "    for i in range(k):\n",
    "        predicted_positives = np.sum(matrix[:,i])\n",
    "        recall[i] = matrix[i,i]/predicted_positives\n",
    "    return recall\n",
    "\n",
    "def getFMeasure(precision, recall):\n",
    "    k = len(precision)\n",
    "    fm = np.zeros(k)\n",
    "    for i in range(k):\n",
    "        fm[i] = 2* precision[i]*recall[i]/(precision[i]+recall[i])\n",
    "    return fm"
   ]
  },
  {
   "cell_type": "markdown",
   "metadata": {},
   "source": [
    "###Sckit SVC Library"
   ]
  },
  {
   "cell_type": "code",
   "execution_count": 9,
   "metadata": {
    "collapsed": false
   },
   "outputs": [],
   "source": [
    "def validation(train_dataset, test_dataset, labels, params):\n",
    "    from sklearn import svm\n",
    "    C = params['C']  # SVM regularization parameter\n",
    "    X = train_dataset[:,:-1]\n",
    "    y = train_dataset[:,-1]\n",
    "    \n",
    "    svc = svm.SVC(kernel='linear', C=C).fit(X, y)\n",
    "    #rbf_svc = svm.SVC(kernel='rbf', gamma=0.7, C=C).fit(X, y)\n",
    "    #poly_svc = svm.SVC(kernel='poly', degree=3, C=C).fit(X, y)\n",
    "    #lin_svc = svm.LinearSVC(C=C).fit(X, y)\n",
    "    X_test = test_dataset[:,:-1]\n",
    "    y_test = test_dataset[:,-1]\n",
    "    y_predict = svc.predict(X_test)        \n",
    "    return getConfusionMatrix(y_test, y_predict, labels)"
   ]
  },
  {
   "cell_type": "markdown",
   "metadata": {},
   "source": [
    "###Support Vector Machine"
   ]
  },
  {
   "cell_type": "code",
   "execution_count": 10,
   "metadata": {
    "collapsed": false
   },
   "outputs": [],
   "source": [
    "class SVM:\n",
    "    def __init__(self, size):\n",
    "\n",
    "        self.W = np.zeros((size))\n",
    "        self.W0 = 0\n",
    "        \n",
    "    def train(self, data, params):\n",
    "        C = params['C']\n",
    "        alpha_threshold = params['alpha_threshold']\n",
    "        #print \"Training\", data\n",
    "        (m,n) = data.shape\n",
    "        x_train = data[:,:n-1]\n",
    "        y_train = data[:,-1]\n",
    "        \n",
    "        #1. Solve for Dual\n",
    "        alpha = getLagrangeMultipliers(x_train, y_train, C)\n",
    "        alpha = np.array(alpha)\n",
    "        #alpha_threshold = np.median(alpha) * 0.75\n",
    "        #print \"Median\", alpha_threshold\n",
    "        #print \"Alpha\",  alpha.shape, alpha\n",
    "        \n",
    "        #2. Identify Support Vectors\n",
    "        svIdx = getSVIdx(alpha, alpha_threshold)\n",
    "        svX = x_train[svIdx]\n",
    "        svY = y_train[svIdx]\n",
    "        svAlpha = alpha[svIdx]\n",
    "        \n",
    "        svm = len(svIdx)\n",
    "        #print \"Support Vectors\", len(svIdx), np.min(svAlpha), np.max(svAlpha)\n",
    "        fileName = params['dataset']\n",
    "        if fileName == 'Linear' or fileName == 'Non-Separable':\n",
    "            plt.figure()\n",
    "            for i in range(m):\n",
    "                if i in svIdx:\n",
    "                    plt.scatter(x_train[i,0], x_train[i,1], marker='o', color='r')\n",
    "                else:\n",
    "                    if y_train[i] == 1:\n",
    "                        plt.scatter(x_train[i,0], x_train[i,1], marker='<', color='b')\n",
    "                    else:\n",
    "                        plt.scatter(x_train[i,0], x_train[i,1], marker='>', color='g')\n",
    "        \n",
    "        #3. Compute W\n",
    "        sum = 0\n",
    "        for i in range(svm):\n",
    "            sum += svAlpha[i] * svX[i] * svY[i]\n",
    "        self.W = sum\n",
    "        #print \"W\", self.W\n",
    "        \n",
    "        #4. Compute W0\n",
    "        sum = 0\n",
    "        for i in range(svm):\n",
    "            sum += svY[i] - np.dot(self.W.T, svX[i])\n",
    "        self.W0 = sum/svm\n",
    "        #print \"W0\", self.W0\n",
    "    \n",
    "    def test(self, data, labels):\n",
    "        (m,n) = data.shape\n",
    "        x_test = data[:,:n-1]\n",
    "        y_test = data[:,-1]\n",
    "        y_hat = np.dot(x_test, self.W.T) + self.W0\n",
    "        y_predict = [labels[0] if y_hat[i] < 0 else labels[1] for i in range(m)]\n",
    "        #for i in range(m):\n",
    "            #print \"Y=\", y_test[i], \"Y_est=\", y_predict[i]\n",
    "        return getConfusionMatrix(y_test, y_predict, labels)"
   ]
  },
  {
   "cell_type": "markdown",
   "metadata": {},
   "source": [
    "###Main function triggering the experiment"
   ]
  },
  {
   "cell_type": "code",
   "execution_count": 18,
   "metadata": {
    "collapsed": false,
    "scrolled": false
   },
   "outputs": [
    {
     "name": "stdout",
     "output_type": "stream",
     "text": [
      "Confusion Matrix\n",
      "[[ 50.   0.]\n",
      " [  0.  50.]]\n",
      "Accuracy\t:\t1.0\n",
      "Precision\t:\t1.0\n",
      "Recall\t\t:\t1.0\n",
      "F-Measure\t:\t1.0\n"
     ]
    },
    {
     "data": {
      "image/png": "[encoded data removed]",
      "text/plain": [
       "<matplotlib.figure.Figure at 0x1b530668>"
      ]
     },
     "metadata": {},
     "output_type": "display_data"
    },
    {
     "data": {
      "image/png": "[encoded data removed]",
      "text/plain": [
       "<matplotlib.figure.Figure at 0x65eadef0>"
      ]
     },
     "metadata": {},
     "output_type": "display_data"
    },
    {
     "data": {
      "image/png": "[encoded data removed]",
      "text/plain": [
       "<matplotlib.figure.Figure at 0x66728a58>"
      ]
     },
     "metadata": {},
     "output_type": "display_data"
    },
    {
     "data": {
      "image/png": "[encoded data removed]",
      "text/plain": [
       "<matplotlib.figure.Figure at 0x6e0112b0>"
      ]
     },
     "metadata": {},
     "output_type": "display_data"
    },
    {
     "data": {
      "image/png": "[encoded data removed]",
      "text/plain": [
       "<matplotlib.figure.Figure at 0x1b22a6a0>"
      ]
     },
     "metadata": {},
     "output_type": "display_data"
    },
    {
     "data": {
      "image/png": "[encoded data removed]",
      "text/plain": [
       "<matplotlib.figure.Figure at 0x6e17d7f0>"
      ]
     },
     "metadata": {},
     "output_type": "display_data"
    },
    {
     "data": {
      "image/png": "[encoded data removed]",
      "text/plain": [
       "<matplotlib.figure.Figure at 0x66287780>"
      ]
     },
     "metadata": {},
     "output_type": "display_data"
    },
    {
     "data": {
      "image/png": "[encoded data removed]",
      "text/plain": [
       "<matplotlib.figure.Figure at 0x78b6aa90>"
      ]
     },
     "metadata": {},
     "output_type": "display_data"
    },
    {
     "data": {
      "image/png": "[encoded data removed]",
      "text/plain": [
       "<matplotlib.figure.Figure at 0x668bad30>"
      ]
     },
     "metadata": {},
     "output_type": "display_data"
    },
    {
     "data": {
      "image/png": "[encoded data removed]",
      "text/plain": [
       "<matplotlib.figure.Figure at 0x788a66d8>"
      ]
     },
     "metadata": {},
     "output_type": "display_data"
    },
    {
     "data": {
      "image/png": "[encoded data removed]",
      "text/plain": [
       "<matplotlib.figure.Figure at 0x1b403f98>"
      ]
     },
     "metadata": {},
     "output_type": "display_data"
    }
   ],
   "source": [
    "def run(params):\n",
    "    fileName = params['dataset']\n",
    "    size = params['examples']\n",
    "    dataset = getData(fileName, size)\n",
    "    (m,n) = dataset.shape\n",
    "    if fileName == 'Linear' or fileName == 'Non-Separable':\n",
    "        x = dataset[:,:-1]\n",
    "        y = dataset[:, -1]\n",
    "        for i in range(m):\n",
    "            if y[i] == 1:\n",
    "                    plt.scatter(x[i,0], x[i,1], marker='<', color='b')\n",
    "            else:\n",
    "                    plt.scatter(x[i,0], x[i,1], marker='>', color='g')\n",
    "    \n",
    "    #print dataset.shape\n",
    "    \n",
    "    \n",
    "    labels = np.unique(dataset[:,-1])\n",
    "    #print labels\n",
    "    k = len(labels)\n",
    "    CV_idx = KFold(len(dataset), n_folds=10)\n",
    "    \n",
    "    svm = SVM(n-1)\n",
    "    cm = np.zeros((k,k))\n",
    "    cm_test = np.zeros((k,k))\n",
    "    for train_idx, test_idx in CV_idx:\n",
    "        svm.train(dataset[train_idx],  params)\n",
    "        cm = np.add(cm, svm.test(dataset[test_idx], labels))\n",
    "        cm_test = np.add(cm_test, validation(dataset[train_idx], dataset[test_idx], labels, params))\n",
    "        #break\n",
    "    print \"Confusion Matrix\"\n",
    "    print cm\n",
    "    #print \"Confusion Matrix(SciKit Library)\"\n",
    "    #print cm_test\n",
    "    \n",
    "    precision = getPrecision(cm)\n",
    "    recall = getRecall(cm)\n",
    "    \n",
    "    print \"Accuracy\\t:\\t\", getAccuracy(cm)\n",
    "    print \"Precision\\t:\\t\", precision[0]\n",
    "    print \"Recall\\t\\t:\\t\", recall[0]\n",
    "    print \"F-Measure\\t:\\t\", getFMeasure(precision, recall)[0]\n",
    "    \n",
    "if __name__ == '__main__':\n",
    "    \n",
    "    params = {\n",
    "        #'dataset'          : 'Iris', #C=1000, alpha = 1e-4\n",
    "        'dataset'          : 'Linear',\n",
    "        #'dataset'          : 'Non-Separable',\n",
    "        #'dataset'           : 'Bank',\n",
    "        #'dataset'           : 'Breast-Cancer',\n",
    "        'examples'        : 100,\n",
    "        'C'               : 1000,\n",
    "        'alpha_threshold' : 1e-4\n",
    "    }\n",
    "    run(params)"
   ]
  },
  {
   "cell_type": "code",
   "execution_count": null,
   "metadata": {
    "collapsed": true
   },
   "outputs": [],
   "source": []
  },
  {
   "cell_type": "code",
   "execution_count": null,
   "metadata": {
    "collapsed": true
   },
   "outputs": [],
   "source": []
  }
 ],
 "metadata": {
  "kernelspec": {
   "display_name": "Python 2",
   "language": "python",
   "name": "python2"
  },
  "language_info": {
   "codemirror_mode": {
    "name": "ipython",
    "version": 2
   },
   "file_extension": ".py",
   "mimetype": "text/x-python",
   "name": "python",
   "nbconvert_exporter": "python",
   "pygments_lexer": "ipython2",
   "version": "2.7.11"
  }
 },
 "nbformat": 4,
 "nbformat_minor": 0
}
